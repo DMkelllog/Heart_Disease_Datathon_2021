{
 "cells": [
  {
   "cell_type": "code",
   "execution_count": 1,
   "metadata": {},
   "outputs": [],
   "source": [
    "%load_ext autoreload\n",
    "%autoreload 2\n",
    "\n",
    "import numpy as np\n",
    "import matplotlib.pyplot as plt\n",
    "import os, pickle"
   ]
  },
  {
   "cell_type": "code",
   "execution_count": 2,
   "metadata": {},
   "outputs": [],
   "source": [
    "def read_size(mask):\n",
    "    h, w = mask.shape[0], mask.shape[1]\n",
    "\n",
    "    return h, w"
   ]
  },
  {
   "cell_type": "code",
   "execution_count": 7,
   "metadata": {},
   "outputs": [
    {
     "ename": "SyntaxError",
     "evalue": "invalid syntax (<ipython-input-7-5917d1d9aad1>, line 14)",
     "output_type": "error",
     "traceback": [
      "\u001b[0;36m  File \u001b[0;32m\"<ipython-input-7-5917d1d9aad1>\"\u001b[0;36m, line \u001b[0;32m14\u001b[0m\n\u001b[0;31m    fw.write(f'{img_name.replace('.npy', '')},{h},{w}\\n')\u001b[0m\n\u001b[0m                                         ^\u001b[0m\n\u001b[0;31mSyntaxError\u001b[0m\u001b[0;31m:\u001b[0m invalid syntax\n"
     ]
    }
   ],
   "source": [
    "for version in ['A2C', 'A4C']:\n",
    "    with open(f'data/validation_{version}_size.csv', 'w') as fw:\n",
    "        fw.write(f'patient_num,height,width\\n')\n",
    "        print(f'{version}')\n",
    "        img_list = sorted(os.listdir(f'data/original/validation/{version}'))\n",
    "        for img_name in img_list:\n",
    "            # print(img_name)\n",
    "            if img_name.endswith('.npy'):\n",
    "                mask = np.load(f'data/original/validation/{version}/{img_name}')\n",
    "\n",
    "                h, w = read_size(mask)\n",
    "                print(h, w)\n",
    "\n",
    "                fw.write(f'{img_name.replace(\".npy\", \"\")},{h},{w}\\n')\n",
    "\n",
    "    fw.close()"
   ]
  }
 ],
 "metadata": {
  "interpreter": {
   "hash": "20cdafe2e99dd3229e106cc14ae2697f2b46c853e8978f749e3be6d16c18b540"
  },
  "kernelspec": {
   "display_name": "Python 3.7.10 64-bit ('tch_dm': conda)",
   "language": "python",
   "name": "python3"
  },
  "language_info": {
   "codemirror_mode": {
    "name": "ipython",
    "version": 3
   },
   "file_extension": ".py",
   "mimetype": "text/x-python",
   "name": "python",
   "nbconvert_exporter": "python",
   "pygments_lexer": "ipython3",
   "version": "3.7.10"
  },
  "orig_nbformat": 4
 },
 "nbformat": 4,
 "nbformat_minor": 2
}
