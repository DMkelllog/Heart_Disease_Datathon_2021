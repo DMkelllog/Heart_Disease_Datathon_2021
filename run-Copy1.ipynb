{
 "cells": [
  {
   "cell_type": "markdown",
   "metadata": {},
   "source": [
    "# Import Library"
   ]
  },
  {
   "cell_type": "code",
   "execution_count": 1,
   "metadata": {},
   "outputs": [],
   "source": [
    "%load_ext autoreload\n",
    "%autoreload 2\n",
    "\n",
    "\n",
    "import numpy as np\n",
    "import matplotlib.pyplot as plt\n",
    "import datetime\n",
    "\n",
    "import torch\n",
    "\n",
    "from torch.optim import Adam\n",
    "from torch.optim.lr_scheduler import ReduceLROnPlateau\n",
    "from torch import optim\n",
    "import numpy as np\n",
    "import pickle\n",
    "from tqdm import tqdm\n",
    "\n",
    "import albumentations as A\n",
    "from albumentations.pytorch import ToTensorV2\n",
    "\n",
    "from utils import *\n",
    "\n",
    "from models import caranet\n",
    "from unet import pretrained_unet\n",
    "\n",
    "from metrics import DiceLoss\n",
    "\n"
   ]
  },
  {
   "cell_type": "code",
   "execution_count": 2,
   "metadata": {},
   "outputs": [],
   "source": [
    "##### Hyperparameter Settings ####\n",
    "device = 'cuda' if torch.cuda.is_available() else 'cpu'\n",
    "learning_rate = 1e-4\n",
    "weight_decay = 1e-10\n",
    "batch_size = 16\n",
    "num_epochs = 1000\n",
    "early_stopping_patience = 10\n",
    "random_seed = 42\n",
    "date_time = datetime.datetime.now().strftime(\"%m-%d_%H-%M\")\n",
    "\n",
    "# model_type = 'caranet'\n",
    "model_type = 'unet'\n",
    "\n",
    "filename = f'models/{model_type}_{date_time}.pt'\n",
    "\n",
    "if model_type == 'unet':\n",
    "    mode = 'base'\n",
    "elif model_type == 'caranet':\n",
    "    mode = 'caranet'\n",
    "#################################"
   ]
  },
  {
   "cell_type": "markdown",
   "metadata": {},
   "source": [
    "# Dataloader"
   ]
  },
  {
   "cell_type": "code",
   "execution_count": 3,
   "metadata": {},
   "outputs": [],
   "source": [
    "transform = A.Compose([\n",
    "    A.HorizontalFlip(),\n",
    "    ToTensorV2(transpose_mask=True)\n",
    "])\n",
    "\n"
   ]
  },
  {
   "cell_type": "code",
   "execution_count": 4,
   "metadata": {},
   "outputs": [
    {
     "name": "stdout",
     "output_type": "stream",
     "text": [
      "train image shape: (1600, 400, 400, 3) \n",
      "train mask shape: (1600, 400, 400, 1)\n",
      "test image shape: (200, 400, 400, 3) \n",
      "test mask shape: (200, 400, 400, 1)\n"
     ]
    }
   ],
   "source": [
    "_2_4_loader, _2_loader, _4_loader = make_dataloader(transform, random_seed, batch_size, mode)\n",
    "\n",
    "train_2_4_loader, test_2_4_loader = _2_4_loader\n",
    "train_2_loader, test_2_loader = _2_loader\n",
    "train_4_loader, test_4_loader = _4_loader\n"
   ]
  },
  {
   "cell_type": "markdown",
   "metadata": {},
   "source": [
    "# Pre-Training"
   ]
  },
  {
   "cell_type": "code",
   "execution_count": 7,
   "metadata": {},
   "outputs": [],
   "source": [
    "if model_type == 'unet':\n",
    "    model = pretrained_unet(True).to(device)\n",
    "elif model_type == 'caranet':\n",
    "    model = caranet().to(device)\n",
    "optimizer = Adam(model.parameters(), lr=learning_rate, weight_decay=weight_decay)\n",
    "scheduler = ReduceLROnPlateau(optimizer, mode='min', factor=0.1, patience=20, min_lr=learning_rate/1000, verbose=False)\n",
    "criterion = DiceLoss()\n",
    "\n",
    "early_stopping = EarlyStopping(patience = 20, verbose = False, path = filename)\n",
    "loss_dict = {'train': [], 'val': []}"
   ]
  },
  {
   "cell_type": "code",
   "execution_count": 9,
   "metadata": {},
   "outputs": [],
   "source": [
    "train_loader = train_2_4_loader\n",
    "val_loader = test_2_4_loader"
   ]
  },
  {
   "cell_type": "code",
   "execution_count": 11,
   "metadata": {
    "scrolled": false
   },
   "outputs": [
    {
     "name": "stdout",
     "output_type": "stream",
     "text": [
      "Epoch 0 train_loss: 0.71702   val_loss: 0.66310\n",
      "Epoch 1 train_loss: 0.63567   val_loss: 0.62090\n",
      "Epoch 2 train_loss: 0.60623   val_loss: 0.60054\n",
      "Epoch 3 train_loss: 0.58137   val_loss: 0.58401\n",
      "Epoch 4 train_loss: 0.55619   val_loss: 0.54848\n",
      "Epoch 5 train_loss: 0.52998   val_loss: 0.52371\n",
      "Epoch 6 train_loss: 0.49966   val_loss: 0.48504\n",
      "Epoch 7 train_loss: 0.46458   val_loss: 0.47178\n",
      "Epoch 8 train_loss: 0.43170   val_loss: 0.43726\n",
      "Epoch 9 train_loss: 0.39988   val_loss: 0.38938\n",
      "Epoch 10 train_loss: 0.37061   val_loss: 0.36117\n",
      "Epoch 11 train_loss: 0.34461   val_loss: 0.32991\n",
      "Epoch 12 train_loss: 0.31447   val_loss: 0.31413\n",
      "Epoch 13 train_loss: 0.28770   val_loss: 0.29499\n",
      "EarlyStopping counter: 1 out of 20\n",
      "Epoch 14 train_loss: 0.26526   val_loss: 0.35615\n",
      "Epoch 15 train_loss: 0.24566   val_loss: 0.25535\n",
      "Epoch 16 train_loss: 0.22397   val_loss: 0.22701\n",
      "Epoch 17 train_loss: 0.20889   val_loss: 0.20628\n",
      "Epoch 18 train_loss: 0.18948   val_loss: 0.18851\n",
      "Epoch 19 train_loss: 0.17482   val_loss: 0.17832\n",
      "Epoch 20 train_loss: 0.16114   val_loss: 0.17235\n",
      "Epoch 21 train_loss: 0.15028   val_loss: 0.15974\n",
      "Epoch 22 train_loss: 0.14000   val_loss: 0.14682\n",
      "Epoch 23 train_loss: 0.13316   val_loss: 0.14057\n",
      "EarlyStopping counter: 1 out of 20\n",
      "Epoch 24 train_loss: 0.12307   val_loss: 0.15590\n",
      "Epoch 25 train_loss: 0.11733   val_loss: 0.12740\n",
      "Epoch 26 train_loss: 0.11040   val_loss: 0.11896\n",
      "Epoch 27 train_loss: 0.10336   val_loss: 0.11609\n",
      "Epoch 28 train_loss: 0.09660   val_loss: 0.11184\n",
      "Epoch 29 train_loss: 0.09017   val_loss: 0.10368\n",
      "EarlyStopping counter: 1 out of 20\n",
      "Epoch 30 train_loss: 0.08506   val_loss: 0.13858\n",
      "Epoch 31 train_loss: 0.08229   val_loss: 0.09957\n",
      "EarlyStopping counter: 1 out of 20\n",
      "Epoch 32 train_loss: 0.07721   val_loss: 0.10543\n",
      "Epoch 33 train_loss: 0.07430   val_loss: 0.09163\n",
      "EarlyStopping counter: 1 out of 20\n",
      "Epoch 34 train_loss: 0.07105   val_loss: 0.09185\n",
      "Epoch 35 train_loss: 0.06606   val_loss: 0.08947\n",
      "Epoch 36 train_loss: 0.06403   val_loss: 0.08571\n",
      "Epoch 37 train_loss: 0.06087   val_loss: 0.08547\n",
      "Epoch 38 train_loss: 0.05703   val_loss: 0.08217\n",
      "EarlyStopping counter: 1 out of 20\n",
      "Epoch 39 train_loss: 0.05521   val_loss: 0.08272\n",
      "Epoch 40 train_loss: 0.05269   val_loss: 0.08074\n",
      "EarlyStopping counter: 1 out of 20\n",
      "Epoch 41 train_loss: 0.05071   val_loss: 0.13227\n",
      "Epoch 42 train_loss: 0.05829   val_loss: 0.07909\n",
      "Epoch 43 train_loss: 0.04885   val_loss: 0.07596\n",
      "Epoch 44 train_loss: 0.04744   val_loss: 0.07392\n",
      "Epoch 45 train_loss: 0.04382   val_loss: 0.07355\n",
      "EarlyStopping counter: 1 out of 20\n",
      "Epoch 46 train_loss: 0.04272   val_loss: 0.07880\n",
      "Epoch 47 train_loss: 0.04249   val_loss: 0.07185\n",
      "Epoch 48 train_loss: 0.03910   val_loss: 0.06940\n",
      "Epoch 49 train_loss: 0.03707   val_loss: 0.06896\n",
      "EarlyStopping counter: 1 out of 20\n",
      "Epoch 50 train_loss: 0.03527   val_loss: 0.06896\n",
      "Epoch 51 train_loss: 0.03500   val_loss: 0.06857\n",
      "EarlyStopping counter: 1 out of 20\n",
      "Epoch 52 train_loss: 0.03525   val_loss: 0.07720\n",
      "EarlyStopping counter: 2 out of 20\n",
      "Epoch 53 train_loss: 0.03395   val_loss: 0.07061\n",
      "EarlyStopping counter: 3 out of 20\n",
      "Epoch 54 train_loss: 0.03176   val_loss: 0.06915\n",
      "EarlyStopping counter: 4 out of 20\n",
      "Epoch 55 train_loss: 0.03137   val_loss: 0.06907\n",
      "Epoch 56 train_loss: 0.02967   val_loss: 0.06808\n",
      "EarlyStopping counter: 1 out of 20\n",
      "Epoch 57 train_loss: 0.02911   val_loss: 0.06892\n",
      "Epoch 58 train_loss: 0.02824   val_loss: 0.06618\n",
      "Epoch 59 train_loss: 0.02718   val_loss: 0.06400\n",
      "EarlyStopping counter: 1 out of 20\n",
      "Epoch 60 train_loss: 0.02641   val_loss: 0.06917\n",
      "EarlyStopping counter: 2 out of 20\n",
      "Epoch 61 train_loss: 0.02637   val_loss: 0.06552\n",
      "EarlyStopping counter: 3 out of 20\n",
      "Epoch 62 train_loss: 0.02563   val_loss: 0.06711\n",
      "Epoch 63 train_loss: 0.02536   val_loss: 0.06310\n",
      "EarlyStopping counter: 1 out of 20\n",
      "Epoch 64 train_loss: 0.03261   val_loss: 0.08879\n",
      "EarlyStopping counter: 2 out of 20\n",
      "Epoch 65 train_loss: 0.02733   val_loss: 0.06653\n",
      "EarlyStopping counter: 3 out of 20\n",
      "Epoch 66 train_loss: 0.02369   val_loss: 0.06589\n",
      "Epoch 67 train_loss: 0.02270   val_loss: 0.06116\n",
      "EarlyStopping counter: 1 out of 20\n",
      "Epoch 68 train_loss: 0.02203   val_loss: 0.06281\n",
      "EarlyStopping counter: 2 out of 20\n",
      "Epoch 69 train_loss: 0.02144   val_loss: 0.06582\n",
      "EarlyStopping counter: 3 out of 20\n",
      "Epoch 70 train_loss: 0.02122   val_loss: 0.06357\n",
      "EarlyStopping counter: 4 out of 20\n",
      "Epoch 71 train_loss: 0.02043   val_loss: 0.06259\n",
      "EarlyStopping counter: 5 out of 20\n",
      "Epoch 72 train_loss: 0.01979   val_loss: 0.06246\n",
      "EarlyStopping counter: 6 out of 20\n",
      "Epoch 73 train_loss: 0.01975   val_loss: 0.06137\n",
      "EarlyStopping counter: 7 out of 20\n",
      "Epoch 74 train_loss: 0.01984   val_loss: 0.06444\n",
      "Epoch 75 train_loss: 0.01945   val_loss: 0.06088\n",
      "EarlyStopping counter: 1 out of 20\n",
      "Epoch 76 train_loss: 0.01895   val_loss: 0.06373\n",
      "EarlyStopping counter: 2 out of 20\n",
      "Epoch 77 train_loss: 0.01842   val_loss: 0.06343\n",
      "Epoch 78 train_loss: 0.01811   val_loss: 0.06034\n",
      "EarlyStopping counter: 1 out of 20\n",
      "Epoch 79 train_loss: 0.01804   val_loss: 0.06360\n",
      "EarlyStopping counter: 2 out of 20\n",
      "Epoch 80 train_loss: 0.01798   val_loss: 0.06184\n",
      "EarlyStopping counter: 3 out of 20\n",
      "Epoch 81 train_loss: 0.01728   val_loss: 0.06158\n",
      "EarlyStopping counter: 4 out of 20\n",
      "Epoch 82 train_loss: 0.01721   val_loss: 0.06983\n",
      "EarlyStopping counter: 5 out of 20\n",
      "Epoch 83 train_loss: 0.01797   val_loss: 0.07228\n",
      "EarlyStopping counter: 6 out of 20\n",
      "Epoch 84 train_loss: 0.01806   val_loss: 0.06342\n"
     ]
    },
    {
     "ename": "KeyboardInterrupt",
     "evalue": "",
     "output_type": "error",
     "traceback": [
      "\u001b[0;31m---------------------------------------------------------------------------\u001b[0m",
      "\u001b[0;31mKeyboardInterrupt\u001b[0m                         Traceback (most recent call last)",
      "\u001b[0;32m/tmp/ipykernel_349292/1345391058.py\u001b[0m in \u001b[0;36m<module>\u001b[0;34m\u001b[0m\n\u001b[1;32m      5\u001b[0m     \u001b[0;32mfor\u001b[0m \u001b[0mit_1\u001b[0m\u001b[0;34m,\u001b[0m \u001b[0;34m(\u001b[0m\u001b[0mimg\u001b[0m\u001b[0;34m,\u001b[0m \u001b[0mmask\u001b[0m\u001b[0;34m)\u001b[0m \u001b[0;32min\u001b[0m \u001b[0menumerate\u001b[0m\u001b[0;34m(\u001b[0m\u001b[0mtrain_loader\u001b[0m\u001b[0;34m)\u001b[0m\u001b[0;34m:\u001b[0m\u001b[0;34m\u001b[0m\u001b[0;34m\u001b[0m\u001b[0m\n\u001b[1;32m      6\u001b[0m         \u001b[0;31m#print(train_img)\u001b[0m\u001b[0;34m\u001b[0m\u001b[0;34m\u001b[0m\u001b[0;34m\u001b[0m\u001b[0m\n\u001b[0;32m----> 7\u001b[0;31m         \u001b[0mimg\u001b[0m \u001b[0;34m=\u001b[0m \u001b[0mimg\u001b[0m\u001b[0;34m.\u001b[0m\u001b[0mto\u001b[0m\u001b[0;34m(\u001b[0m\u001b[0mdevice\u001b[0m\u001b[0;34m)\u001b[0m\u001b[0;34m\u001b[0m\u001b[0;34m\u001b[0m\u001b[0m\n\u001b[0m\u001b[1;32m      8\u001b[0m         \u001b[0mmask\u001b[0m \u001b[0;34m=\u001b[0m \u001b[0mmask\u001b[0m\u001b[0;34m.\u001b[0m\u001b[0mto\u001b[0m\u001b[0;34m(\u001b[0m\u001b[0mdevice\u001b[0m\u001b[0;34m)\u001b[0m\u001b[0;34m.\u001b[0m\u001b[0mfloat\u001b[0m\u001b[0;34m(\u001b[0m\u001b[0;34m)\u001b[0m\u001b[0;34m\u001b[0m\u001b[0;34m\u001b[0m\u001b[0m\n\u001b[1;32m      9\u001b[0m         \u001b[0;31m#print(train_label)\u001b[0m\u001b[0;34m\u001b[0m\u001b[0;34m\u001b[0m\u001b[0;34m\u001b[0m\u001b[0m\n",
      "\u001b[0;31mKeyboardInterrupt\u001b[0m: "
     ]
    }
   ],
   "source": [
    "for epoch in range(num_epochs):\n",
    "    model.train()\n",
    "    \n",
    "    train_losses = []\n",
    "    for it_1, (img, mask) in enumerate(train_loader):\n",
    "        #print(train_img)\n",
    "        img = img.to(device)\n",
    "        mask = mask.to(device).float()\n",
    "        #print(train_label)\n",
    "        if mode == 'base':\n",
    "            y_pred = model(img)\n",
    "            loss = criterion(y_pred, mask)\n",
    "            train_losses.append(loss.item())\n",
    "            optimizer.zero_grad()\n",
    "            loss.backward()\n",
    "            optimizer.step()\n",
    "\n",
    "        elif mode == 'caranet':\n",
    "            train_lrmap_5,train_lrmap_3,train_lrmap_2,train_lrmap_1 = model(img)\n",
    "            train_loss5 = structure_loss(train_lrmap_5, mask)\n",
    "            train_loss3 = structure_loss(train_lrmap_3, mask)\n",
    "            train_loss2 = structure_loss(train_lrmap_2, mask)\n",
    "            train_loss1 = structure_loss(train_lrmap_1, mask)\n",
    "        \n",
    "            loss = train_loss5 + train_loss3 + train_loss2 + train_loss1\n",
    "        \n",
    "            train_losses.append(loss.item())\n",
    "            \n",
    "            optimizer.zero_grad()\n",
    "            loss.backward()\n",
    "            clip_gradient(optimizer, 0.5)\n",
    "            optimizer.step()\n",
    "    \n",
    "    train_loss = np.average(train_losses)\n",
    "\n",
    "    loss_dict['train'].append(train_loss)\n",
    "\n",
    "    model.eval()\n",
    "    with torch.no_grad():\n",
    "        valid_losses = []\n",
    "        for it_2, (img, mask) in enumerate(val_loader):\n",
    "            img = img.to(device)\n",
    "            mask = mask.to(device).float()\n",
    "            #print(train_label)\n",
    "            if mode == 'base':\n",
    "                y_pred = model(img)\n",
    "                loss = criterion(y_pred, mask)\n",
    "                valid_losses.append(loss.item())\n",
    "\n",
    "            elif mode == 'caranet':\n",
    "                lrmap_5, lrmap_3, lrmap_2, lrmap_1 = model(img)\n",
    "                loss5 = structure_loss(lrmap_5, mask)\n",
    "                loss3 = structure_loss(lrmap_3, mask)\n",
    "                loss2 = structure_loss(lrmap_2, mask)\n",
    "                loss1 = structure_loss(lrmap_1, mask)\n",
    "            \n",
    "                loss = loss5 + loss3 + loss2 + loss1\n",
    "                valid_losses.append(loss.item())\n",
    "        \n",
    "        valid_loss = np.average(valid_losses)\n",
    "        scheduler.step(valid_loss)\n",
    "        \n",
    "        early_stopping(valid_loss, model)\n",
    "        if early_stopping.early_stop:\n",
    "            print(\"Early stopping\")\n",
    "            break\n",
    "#            scheduler.step(float(val_loss))\n",
    "        loss_dict['val'].append(valid_loss)\n",
    "            \n",
    "    print(f'Epoch {epoch} train_loss: {train_loss:0.5f}   val_loss: {valid_loss:0.5f}')"
   ]
  },
  {
   "cell_type": "markdown",
   "metadata": {},
   "source": [
    "# Finetuning"
   ]
  },
  {
   "cell_type": "code",
   "execution_count": 36,
   "metadata": {},
   "outputs": [],
   "source": [
    "learning_rate = 1e-4\n",
    "optimizer = Adam(model.parameters(), lr=learning_rate, weight_decay=weight_decay)"
   ]
  },
  {
   "cell_type": "code",
   "execution_count": 37,
   "metadata": {},
   "outputs": [],
   "source": [
    "train_loader = train_2_loader\n",
    "val_loader = test_2_loader"
   ]
  },
  {
   "cell_type": "code",
   "execution_count": 40,
   "metadata": {},
   "outputs": [
    {
     "data": {
      "text/plain": [
       "<All keys matched successfully>"
      ]
     },
     "execution_count": 40,
     "metadata": {},
     "output_type": "execute_result"
    }
   ],
   "source": [
    "filename = 'models/unet_12-01_15-41.pt'\n",
    "model.load_state_dict(torch.load(f'{filename}'))"
   ]
  },
  {
   "cell_type": "code",
   "execution_count": 41,
   "metadata": {},
   "outputs": [],
   "source": [
    "date_time = datetime.datetime.now().strftime(\"%m-%d_%H-%M\")\n",
    "filename = f'models/{model_type}_{date_time}.pt'\n",
    "early_stopping = EarlyStopping(patience = 20, verbose = False, path = filename)"
   ]
  },
  {
   "cell_type": "code",
   "execution_count": 42,
   "metadata": {
    "scrolled": false
   },
   "outputs": [
    {
     "name": "stdout",
     "output_type": "stream",
     "text": [
      "Epoch 0 train_loss: 0.07450   val_loss: 0.05871\n",
      "Epoch 1 train_loss: 0.06933   val_loss: 0.05740\n",
      "Epoch 2 train_loss: 0.06705   val_loss: 0.05477\n",
      "Epoch 3 train_loss: 0.06616   val_loss: 0.05416\n",
      "EarlyStopping counter: 1 out of 20\n",
      "Epoch 4 train_loss: 0.06497   val_loss: 0.05498\n",
      "EarlyStopping counter: 2 out of 20\n",
      "Epoch 5 train_loss: 0.06404   val_loss: 0.05470\n",
      "Epoch 6 train_loss: 0.06264   val_loss: 0.05356\n",
      "EarlyStopping counter: 1 out of 20\n",
      "Epoch 7 train_loss: 0.06253   val_loss: 0.05517\n",
      "Epoch 8 train_loss: 0.06094   val_loss: 0.05098\n",
      "EarlyStopping counter: 1 out of 20\n",
      "Epoch 9 train_loss: 0.06238   val_loss: 0.05193\n",
      "EarlyStopping counter: 2 out of 20\n",
      "Epoch 10 train_loss: 0.06099   val_loss: 0.05142\n",
      "EarlyStopping counter: 3 out of 20\n",
      "Epoch 11 train_loss: 0.06101   val_loss: 0.05224\n",
      "EarlyStopping counter: 4 out of 20\n",
      "Epoch 12 train_loss: 0.05951   val_loss: 0.05272\n",
      "EarlyStopping counter: 5 out of 20\n",
      "Epoch 13 train_loss: 0.05880   val_loss: 0.05280\n",
      "EarlyStopping counter: 6 out of 20\n",
      "Epoch 14 train_loss: 0.05756   val_loss: 0.05125\n",
      "EarlyStopping counter: 7 out of 20\n",
      "Epoch 15 train_loss: 0.05836   val_loss: 0.05224\n",
      "Epoch 16 train_loss: 0.05698   val_loss: 0.05076\n",
      "Epoch 17 train_loss: 0.05615   val_loss: 0.05061\n",
      "EarlyStopping counter: 1 out of 20\n",
      "Epoch 18 train_loss: 0.05618   val_loss: 0.05193\n",
      "EarlyStopping counter: 2 out of 20\n",
      "Epoch 19 train_loss: 0.05545   val_loss: 0.05235\n",
      "Epoch 20 train_loss: 0.05437   val_loss: 0.04947\n",
      "EarlyStopping counter: 1 out of 20\n",
      "Epoch 21 train_loss: 0.05427   val_loss: 0.05051\n",
      "EarlyStopping counter: 2 out of 20\n",
      "Epoch 22 train_loss: 0.05349   val_loss: 0.05015\n",
      "EarlyStopping counter: 3 out of 20\n",
      "Epoch 23 train_loss: 0.05285   val_loss: 0.05120\n",
      "EarlyStopping counter: 4 out of 20\n",
      "Epoch 24 train_loss: 0.05150   val_loss: 0.05350\n",
      "EarlyStopping counter: 5 out of 20\n",
      "Epoch 25 train_loss: 0.05138   val_loss: 0.05148\n",
      "EarlyStopping counter: 6 out of 20\n",
      "Epoch 26 train_loss: 0.05074   val_loss: 0.04962\n",
      "Epoch 27 train_loss: 0.05035   val_loss: 0.04918\n",
      "EarlyStopping counter: 1 out of 20\n",
      "Epoch 28 train_loss: 0.04957   val_loss: 0.05310\n",
      "EarlyStopping counter: 2 out of 20\n",
      "Epoch 29 train_loss: 0.04875   val_loss: 0.05153\n",
      "EarlyStopping counter: 3 out of 20\n",
      "Epoch 30 train_loss: 0.04887   val_loss: 0.04992\n",
      "EarlyStopping counter: 4 out of 20\n",
      "Epoch 31 train_loss: 0.04804   val_loss: 0.05371\n",
      "EarlyStopping counter: 5 out of 20\n",
      "Epoch 32 train_loss: 0.04827   val_loss: 0.05447\n",
      "EarlyStopping counter: 6 out of 20\n",
      "Epoch 33 train_loss: 0.04654   val_loss: 0.05618\n",
      "EarlyStopping counter: 7 out of 20\n",
      "Epoch 34 train_loss: 0.04564   val_loss: 0.05119\n",
      "EarlyStopping counter: 8 out of 20\n",
      "Epoch 35 train_loss: 0.04588   val_loss: 0.05169\n",
      "EarlyStopping counter: 9 out of 20\n",
      "Epoch 36 train_loss: 0.04580   val_loss: 0.05279\n",
      "EarlyStopping counter: 10 out of 20\n",
      "Epoch 37 train_loss: 0.04463   val_loss: 0.05280\n",
      "EarlyStopping counter: 11 out of 20\n",
      "Epoch 38 train_loss: 0.04442   val_loss: 0.05155\n",
      "EarlyStopping counter: 12 out of 20\n",
      "Epoch 39 train_loss: 0.04345   val_loss: 0.05191\n",
      "EarlyStopping counter: 13 out of 20\n",
      "Epoch 40 train_loss: 0.04403   val_loss: 0.05492\n",
      "EarlyStopping counter: 14 out of 20\n",
      "Epoch 41 train_loss: 0.04257   val_loss: 0.05326\n",
      "EarlyStopping counter: 15 out of 20\n",
      "Epoch 42 train_loss: 0.04181   val_loss: 0.05658\n",
      "EarlyStopping counter: 16 out of 20\n",
      "Epoch 43 train_loss: 0.04082   val_loss: 0.05571\n",
      "EarlyStopping counter: 17 out of 20\n",
      "Epoch 44 train_loss: 0.04105   val_loss: 0.05154\n",
      "EarlyStopping counter: 18 out of 20\n",
      "Epoch 45 train_loss: 0.04053   val_loss: 0.05519\n",
      "EarlyStopping counter: 19 out of 20\n",
      "Epoch 46 train_loss: 0.03900   val_loss: 0.05374\n",
      "EarlyStopping counter: 20 out of 20\n",
      "Early stopping\n"
     ]
    }
   ],
   "source": [
    "for epoch in range(num_epochs):\n",
    "    model.train()\n",
    "    \n",
    "    train_losses = []\n",
    "    for it_1, (img, mask) in enumerate(train_loader):\n",
    "        #print(train_img)\n",
    "        img = img.to(device)\n",
    "        mask = mask.to(device).float()\n",
    "        #print(train_label)\n",
    "        if mode == 'base':\n",
    "            y_pred = model(img)\n",
    "            loss = criterion(y_pred, mask)\n",
    "            train_losses.append(loss.item())\n",
    "            optimizer.zero_grad()\n",
    "            loss.backward()\n",
    "            optimizer.step()\n",
    "\n",
    "        elif mode == 'caranet':\n",
    "            train_lrmap_5,train_lrmap_3,train_lrmap_2,train_lrmap_1 = model(img)\n",
    "            train_loss5 = structure_loss(train_lrmap_5, mask)\n",
    "            train_loss3 = structure_loss(train_lrmap_3, mask)\n",
    "            train_loss2 = structure_loss(train_lrmap_2, mask)\n",
    "            train_loss1 = structure_loss(train_lrmap_1, mask)\n",
    "        \n",
    "            loss = train_loss5 + train_loss3 + train_loss2 + train_loss1\n",
    "        \n",
    "            train_losses.append(loss.item())\n",
    "            \n",
    "            optimizer.zero_grad()\n",
    "            loss.backward()\n",
    "            clip_gradient(optimizer, 0.5)\n",
    "            optimizer.step()\n",
    "    \n",
    "    train_loss = np.average(train_losses)\n",
    "\n",
    "    loss_dict['train'].append(train_loss)\n",
    "\n",
    "    model.eval()\n",
    "    with torch.no_grad():\n",
    "        valid_losses = []\n",
    "        for it_2, (img, mask) in enumerate(val_loader):\n",
    "            img = img.to(device)\n",
    "            mask = mask.to(device).float()\n",
    "            #print(train_label)\n",
    "            if mode == 'base':\n",
    "                y_pred = model(img)\n",
    "                loss = criterion(y_pred, mask)\n",
    "                valid_losses.append(loss.item())\n",
    "\n",
    "            elif mode == 'caranet':\n",
    "                lrmap_5, lrmap_3, lrmap_2, lrmap_1 = model(img)\n",
    "                loss5 = structure_loss(lrmap_5, mask)\n",
    "                loss3 = structure_loss(lrmap_3, mask)\n",
    "                loss2 = structure_loss(lrmap_2, mask)\n",
    "                loss1 = structure_loss(lrmap_1, mask)\n",
    "            \n",
    "                loss = loss5 + loss3 + loss2 + loss1\n",
    "                valid_losses.append(loss.item())\n",
    "        \n",
    "        valid_loss = np.average(valid_losses)\n",
    "        scheduler.step(valid_loss)\n",
    "        \n",
    "        early_stopping(valid_loss, model)\n",
    "        if early_stopping.early_stop:\n",
    "            print(\"Early stopping\")\n",
    "            break\n",
    "#            scheduler.step(float(val_loss))\n",
    "        loss_dict['val'].append(valid_loss)\n",
    "            \n",
    "    print(f'Epoch {epoch} train_loss: {train_loss:0.5f}   val_loss: {valid_loss:0.5f}')"
   ]
  },
  {
   "cell_type": "markdown",
   "metadata": {},
   "source": [
    "# Evaluate"
   ]
  },
  {
   "cell_type": "code",
   "execution_count": 32,
   "metadata": {},
   "outputs": [],
   "source": [
    "def evaluate(model, testloader, mode='base'):\n",
    "    img_list = []\n",
    "    pred_mask_list = []\n",
    "    gt_mask_list = []\n",
    "    model.eval()\n",
    "    with torch.no_grad():\n",
    "        for img, gt_mask in testloader:\n",
    "            output = model(img.cuda())\n",
    "            if mode=='base': # 일반적인 모델\n",
    "                pred_mask_list.append(output.cpu().numpy())\n",
    "            elif mode=='caranet': # 종욱이 모델\n",
    "                pred_mask_list.append(output[0].sigmoid().cpu().numpy()) \n",
    "\n",
    "            gt_mask_list.append(gt_mask.numpy())\n",
    "    pred_mask_list = np.vstack(pred_mask_list)\n",
    "    gt_mask_list = np.vstack(gt_mask_list)\n",
    "    pred_mask_list_hard = ((pred_mask_list > 0.5) + 0)\n",
    "    # print(gt_mask_list.shape, pred_mask_list_hard.shape)\n",
    "    \n",
    "\n",
    "    DS_list = []\n",
    "    JS_list = []\n",
    "    RC_list = []\n",
    "    PC_list = []\n",
    "\n",
    "    for i, gt_mask in enumerate(gt_mask_list):      \n",
    "        Inter = np.sum((pred_mask_list_hard[i] + gt_mask) == 2) ## True positive\n",
    "        FN = np.sum(((1-pred_mask_list_hard[i]) + gt_mask) == 2) ## False negative\n",
    "        FP = np.sum((pred_mask_list_hard[i] + (1 - gt_mask)) == 2) ## False positive\n",
    "        DS_Union = np.sum(pred_mask_list_hard[i]) + np.sum(gt_mask)\n",
    "        Union = np.sum((pred_mask_list_hard[i] + gt_mask) >= 1)\n",
    "        DS = (Inter*2) / (DS_Union + 1e-8)\n",
    "        JS = Inter/(Union + 1e-8)\n",
    "        RC = Inter/(Inter + FN + 1e-8) ## Recall\n",
    "        PC = Inter/(Inter + FP + 1e-8) ## precision\n",
    "        DS_list.append(DS)\n",
    "        JS_list.append(JS)\n",
    "        RC_list.append(RC)\n",
    "        PC_list.append(PC)\n",
    "        \n",
    "    DS_mean = np.mean(DS_list)\n",
    "    JS_mean = np.mean(JS_list)\n",
    "    RC_mean = np.mean(RC_list)\n",
    "    PC_mean = np.mean(PC_list)\n",
    "    print(f'Dice Similarity:    {DS_mean:0.4f} \\nJaccard Similarity: {JS_mean:0.4f} \\nRecall: {RC_mean:0.4f} \\nPrecision: {PC_mean:0.4f}')\n",
    "    return DS_mean, JS_mean"
   ]
  },
  {
   "cell_type": "code",
   "execution_count": 30,
   "metadata": {},
   "outputs": [],
   "source": [
    "filename = 'models/unet_12-01_15-41.pt'"
   ]
  },
  {
   "cell_type": "code",
   "execution_count": 14,
   "metadata": {},
   "outputs": [
    {
     "data": {
      "text/plain": [
       "<All keys matched successfully>"
      ]
     },
     "execution_count": 14,
     "metadata": {},
     "output_type": "execute_result"
    }
   ],
   "source": [
    "# load best model\n",
    "model.load_state_dict(torch.load(f'{filename}'))"
   ]
  },
  {
   "cell_type": "code",
   "execution_count": 15,
   "metadata": {},
   "outputs": [],
   "source": [
    "train_loader = train_2_4_loader\n",
    "val_loader = test_2_4_loader"
   ]
  },
  {
   "cell_type": "code",
   "execution_count": 33,
   "metadata": {},
   "outputs": [
    {
     "name": "stdout",
     "output_type": "stream",
     "text": [
      "Dice Similarity:    0.9310 \n",
      "Jaccard Similarity: 0.8746 \n",
      "Recall: 0.9600 \n",
      "Precision: 0.9098\n"
     ]
    },
    {
     "data": {
      "text/plain": [
       "(0.9309747890656567, 0.8746189577149983)"
      ]
     },
     "execution_count": 33,
     "metadata": {},
     "output_type": "execute_result"
    }
   ],
   "source": [
    "evaluate(model, val_loader, mode)"
   ]
  },
  {
   "cell_type": "markdown",
   "metadata": {},
   "source": [
    "## Recall = TP / (TP + FN) \n",
    "## Precision = TP / (TP + FP)\n",
    "## Precision이 더 낮으니까 FP가 큰 것으로 생각됨 (넓게 잡는듯)"
   ]
  },
  {
   "cell_type": "markdown",
   "metadata": {},
   "source": [
    "### 그리고 ... loader가 바뀌어서 성능이 더 낮게 나오는 거 아닐까 싶습니다"
   ]
  },
  {
   "cell_type": "code",
   "execution_count": 44,
   "metadata": {},
   "outputs": [],
   "source": [
    "from utils import *"
   ]
  },
  {
   "cell_type": "code",
   "execution_count": 45,
   "metadata": {},
   "outputs": [],
   "source": [
    "x,y = next(iter(test_2_4_loader))"
   ]
  },
  {
   "cell_type": "code",
   "execution_count": 46,
   "metadata": {},
   "outputs": [
    {
     "data": {
      "text/plain": [
       "(torch.Size([16, 3, 400, 400]), torch.Size([16, 1, 400, 400]))"
      ]
     },
     "execution_count": 46,
     "metadata": {},
     "output_type": "execute_result"
    }
   ],
   "source": [
    "x.shape, y.shape"
   ]
  },
  {
   "cell_type": "code",
   "execution_count": 35,
   "metadata": {},
   "outputs": [
    {
     "name": "stdout",
     "output_type": "stream",
     "text": [
      "Dice Similarity:    0.9444 \n",
      "Jaccard Similarity: 0.8971\n"
     ]
    },
    {
     "data": {
      "text/plain": [
       "(0.9443990112442497, 0.8971101449344325)"
      ]
     },
     "execution_count": 35,
     "metadata": {},
     "output_type": "execute_result"
    }
   ],
   "source": [
    "evaluate(model, test_2_4_loader, mode)"
   ]
  },
  {
   "cell_type": "code",
   "execution_count": 47,
   "metadata": {
    "scrolled": true
   },
   "outputs": [
    {
     "name": "stdout",
     "output_type": "stream",
     "text": [
      "Dice Similarity:    0.9473 \n",
      "Jaccard Similarity: 0.9027\n"
     ]
    },
    {
     "data": {
      "text/plain": [
       "(0.9473162733524139, 0.9026605143462214)"
      ]
     },
     "execution_count": 47,
     "metadata": {},
     "output_type": "execute_result"
    }
   ],
   "source": [
    "evaluate(model, val_loader, mode)"
   ]
  },
  {
   "cell_type": "code",
   "execution_count": 18,
   "metadata": {},
   "outputs": [
    {
     "name": "stdout",
     "output_type": "stream",
     "text": [
      "Dice Similarity:    0.9581 \n",
      "Jaccard Similarity: 0.9206\n"
     ]
    },
    {
     "data": {
      "text/plain": [
       "(0.9580883533139442, 0.9205887956478481)"
      ]
     },
     "execution_count": 18,
     "metadata": {},
     "output_type": "execute_result"
    }
   ],
   "source": [
    "evaluate(model, test_4_loader, mode)"
   ]
  },
  {
   "cell_type": "code",
   "execution_count": null,
   "metadata": {},
   "outputs": [],
   "source": []
  },
  {
   "cell_type": "code",
   "execution_count": null,
   "metadata": {},
   "outputs": [],
   "source": []
  }
 ],
 "metadata": {
  "interpreter": {
   "hash": "67279a16936c44c66ab678de41f1260360b345454ec17353bfa5d06d9ac761b8"
  },
  "kernelspec": {
   "display_name": "Python 3 (ipykernel)",
   "language": "python",
   "name": "python3"
  },
  "language_info": {
   "codemirror_mode": {
    "name": "ipython",
    "version": 3
   },
   "file_extension": ".py",
   "mimetype": "text/x-python",
   "name": "python",
   "nbconvert_exporter": "python",
   "pygments_lexer": "ipython3",
   "version": "3.8.0"
  }
 },
 "nbformat": 4,
 "nbformat_minor": 2
}
