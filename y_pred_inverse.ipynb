{
 "cells": [
  {
   "cell_type": "code",
   "execution_count": 3,
   "id": "63a4153f",
   "metadata": {},
   "outputs": [
    {
     "name": "stdout",
     "output_type": "stream",
     "text": [
      "The autoreload extension is already loaded. To reload it, use:\n",
      "  %reload_ext autoreload\n"
     ]
    }
   ],
   "source": [
    "%load_ext autoreload\n",
    "%autoreload 2\n",
    "\n",
    "import numpy as np\n",
    "import matplotlib.pyplot as plt\n",
    "import pickle\n",
    "\n",
    "import torch\n",
    "import albumentations as A\n",
    "from albumentations.pytorch import ToTensorV2\n",
    "\n",
    "from utils import *\n",
    "\n",
    "from models import caranet\n",
    "from unet import pretrained_unet"
   ]
  },
  {
   "cell_type": "code",
   "execution_count": 4,
   "id": "27e68f77",
   "metadata": {},
   "outputs": [],
   "source": [
    "##### Hyperparameter Settings ####\n",
    "device = 'cuda' if torch.cuda.is_available() else 'cpu'\n",
    "batch_size = 16\n",
    "random_seed = 42\n",
    "augmentation_type = 1\n",
    "\n",
    "# model_type = 'caranet'\n",
    "model_type = 'unet'\n",
    "\n",
    "filename = f'models/pre_both_{augmentation_type}_{model_type}.pt'\n",
    "\n",
    "if model_type == 'unet':\n",
    "    mode = 'base'\n",
    "elif model_type == 'caranet':\n",
    "    mode = 'caranet'\n",
    "#################################"
   ]
  },
  {
   "cell_type": "code",
   "execution_count": 5,
   "id": "2a60f7e7",
   "metadata": {},
   "outputs": [
    {
     "name": "stdout",
     "output_type": "stream",
     "text": [
      "train img shape : (800, 400, 400, 3), train mask shape : (800, 400, 400, 1)\n",
      "test img shape : (100, 400, 400, 3), test mask shape : (100, 400, 400, 1)\n"
     ]
    }
   ],
   "source": [
    "# transform = A.Compose([\n",
    "#     ToTensorV2(transpose_mask=True)\n",
    "# ])\n",
    "\n",
    "transform = False\n",
    "\n",
    "train_loader, val_loader = make_dataloader('A2C', transform , random_seed, batch_size, mode)"
   ]
  },
  {
   "cell_type": "code",
   "execution_count": 6,
   "id": "0889f9ee",
   "metadata": {},
   "outputs": [
    {
     "data": {
      "text/plain": [
       "torch.Size([16, 3, 400, 400])"
      ]
     },
     "execution_count": 6,
     "metadata": {},
     "output_type": "execute_result"
    }
   ],
   "source": [
    "img, target = next(iter(val_loader))\n",
    "img = img.to(device)\n",
    "target = target.to(device)\n",
    "\n",
    "img.shape"
   ]
  },
  {
   "cell_type": "code",
   "execution_count": 7,
   "id": "2663fcc7",
   "metadata": {},
   "outputs": [],
   "source": [
    "if model_type == 'unet':\n",
    "    model = pretrained_unet(True).to(device)\n",
    "    \n",
    "elif model_type == 'caranet':\n",
    "    model = caranet().to(device)"
   ]
  },
  {
   "cell_type": "code",
   "execution_count": 8,
   "id": "0ae7adb5",
   "metadata": {
    "scrolled": false
   },
   "outputs": [
    {
     "data": {
      "text/plain": [
       "<All keys matched successfully>"
      ]
     },
     "execution_count": 8,
     "metadata": {},
     "output_type": "execute_result"
    }
   ],
   "source": [
    "filename = 'models/pre_both_1_unet/model_9.pt'\n",
    "model.load_state_dict(torch.load(f'{filename}'))"
   ]
  },
  {
   "cell_type": "code",
   "execution_count": 9,
   "id": "1ea2ec63",
   "metadata": {},
   "outputs": [],
   "source": [
    "y_pred = model(img.float())"
   ]
  },
  {
   "cell_type": "code",
   "execution_count": 10,
   "id": "4d09c0c3",
   "metadata": {
    "scrolled": true
   },
   "outputs": [
    {
     "data": {
      "image/png": "[encoded data removed]",
      "text/plain": [
       "<Figure size 432x288 with 1 Axes>"
      ]
     },
     "metadata": {
      "needs_background": "light"
     },
     "output_type": "display_data"
    }
   ],
   "source": [
    "plt.imshow(y_pred[0].cpu().detach().numpy().transpose(1,2,0))\n",
    "plt.show()"
   ]
  },
  {
   "cell_type": "code",
   "execution_count": 13,
   "id": "820fab3a",
   "metadata": {},
   "outputs": [],
   "source": [
    "import torchvision.transforms as transforms\n",
    "from torchvision.transforms.functional import InterpolationMode"
   ]
  },
  {
   "cell_type": "code",
   "execution_count": 14,
   "id": "cc8229b7",
   "metadata": {},
   "outputs": [],
   "source": [
    "def resize_return(y_pred, cutoff, originsize, pad_size): ## cutoff, originsize(tuple)\n",
    "    h, w = originsize\n",
    "    h -= cutoff\n",
    "\n",
    "    inverse = transforms.Compose([\n",
    "                                transforms.Pad(padding=(pad_size, 0), fill=0),\n",
    "                                transforms.Resize((h,w), interpolation=InterpolationMode.NEAREST),\n",
    "                                transforms.Pad(padding=(0,cutoff,0,0), fill=0)\n",
    "                                 ])\n",
    "    \n",
    "    y_pred_inverse = inverse(y_pred)\n",
    "    print(y_pred_inverse.shape)\n",
    "\n",
    "    return y_pred_inverse"
   ]
  },
  {
   "cell_type": "code",
   "execution_count": 15,
   "id": "e181ced2",
   "metadata": {},
   "outputs": [
    {
     "name": "stdout",
     "output_type": "stream",
     "text": [
      "100\n",
      "torch.Size([1, 434, 636])\n"
     ]
    }
   ],
   "source": [
    "li = []\n",
    "with open('data/validation_A2C_size.csv', 'r') as fr:\n",
    "    while True:\n",
    "        data = fr.readline()\n",
    "\n",
    "        if not data:\n",
    "            break\n",
    "\n",
    "        li.append(data.split(','))\n",
    "\n",
    "li = li[1:]\n",
    "print(len(li))\n",
    "\n",
    "index = 2\n",
    "\n",
    "cutoff = li[index][3]\n",
    "h, w = li[index][1], li[index][2]\n",
    "\n",
    "y_pred_inverse = resize_return(y_pred[index], int(cutoff), (int(h), int(w)), pad_size=100)"
   ]
  },
  {
   "cell_type": "code",
   "execution_count": 16,
   "id": "bb4a9281",
   "metadata": {},
   "outputs": [
    {
     "data": {
      "text/plain": [
       "(434, 636)"
      ]
     },
     "execution_count": 16,
     "metadata": {},
     "output_type": "execute_result"
    }
   ],
   "source": [
    "origin_mask = np.load('data/original/validation/A2C/0803.npy')\n",
    "origin_mask.shape"
   ]
  },
  {
   "cell_type": "code",
   "execution_count": 17,
   "id": "30bc714e",
   "metadata": {},
   "outputs": [
    {
     "data": {
      "image/png": "[encoded data removed]",
      "text/plain": [
       "<Figure size 432x288 with 1 Axes>"
      ]
     },
     "metadata": {
      "needs_background": "light"
     },
     "output_type": "display_data"
    },
    {
     "data": {
      "image/png": "[encoded data removed]",
      "text/plain": [
       "<Figure size 432x288 with 1 Axes>"
      ]
     },
     "metadata": {
      "needs_background": "light"
     },
     "output_type": "display_data"
    },
    {
     "data": {
      "image/png": "[encoded data removed]",
      "text/plain": [
       "<Figure size 432x288 with 1 Axes>"
      ]
     },
     "metadata": {
      "needs_background": "light"
     },
     "output_type": "display_data"
    }
   ],
   "source": [
    "plt.imshow(y_pred[index].cpu().detach().numpy().transpose(1,2,0))\n",
    "plt.show()\n",
    "\n",
    "plt.imshow(y_pred_inverse.cpu().detach().numpy().transpose(1,2,0))\n",
    "plt.show()\n",
    "\n",
    "plt.imshow(origin_mask)\n",
    "plt.show()"
   ]
  }
 ],
 "metadata": {
  "kernelspec": {
   "display_name": "Python 3 (ipykernel)",
   "language": "python",
   "name": "python3"
  },
  "language_info": {
   "codemirror_mode": {
    "name": "ipython",
    "version": 3
   },
   "file_extension": ".py",
   "mimetype": "text/x-python",
   "name": "python",
   "nbconvert_exporter": "python",
   "pygments_lexer": "ipython3",
   "version": "3.7.10"
  }
 },
 "nbformat": 4,
 "nbformat_minor": 5
}
