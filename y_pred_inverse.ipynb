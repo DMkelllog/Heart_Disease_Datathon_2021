{
 "cells": [
  {
   "cell_type": "code",
   "execution_count": 1,
   "id": "63a4153f",
   "metadata": {},
   "outputs": [],
   "source": [
    "%load_ext autoreload\n",
    "%autoreload 2\n",
    "\n",
    "\n",
    "import numpy as np\n",
    "import matplotlib.pyplot as plt\n",
    "import datetime\n",
    "\n",
    "import torch\n",
    "\n",
    "from torch.optim import Adam\n",
    "from torch.optim.lr_scheduler import ReduceLROnPlateau\n",
    "from torch import optim\n",
    "import numpy as np\n",
    "import pickle\n",
    "from tqdm import tqdm\n",
    "\n",
    "import albumentations as A\n",
    "from albumentations.pytorch import ToTensorV2\n",
    "\n",
    "from utils import *\n",
    "\n",
    "from models import caranet\n",
    "from unet import pretrained_unet\n",
    "\n",
    "from metrics import DiceLoss"
   ]
  },
  {
   "cell_type": "code",
   "execution_count": 2,
   "id": "27e68f77",
   "metadata": {},
   "outputs": [],
   "source": [
    "##### Hyperparameter Settings ####\n",
    "device = 'cuda' if torch.cuda.is_available() else 'cpu'\n",
    "learning_rate = 1e-4\n",
    "weight_decay = 1e-10\n",
    "batch_size = 16\n",
    "num_epochs = 1000\n",
    "early_stopping_patience = 10\n",
    "random_seed = 42\n",
    "date_time = datetime.datetime.now().strftime(\"%m-%d_%H-%M\")\n",
    "\n",
    "# model_type = 'caranet'\n",
    "model_type = 'unet'\n",
    "\n",
    "filename = f'models/{model_type}_{date_time}.pt'\n",
    "\n",
    "if model_type == 'unet':\n",
    "    mode = 'base'\n",
    "elif model_type == 'caranet':\n",
    "    mode = 'caranet'\n",
    "#################################"
   ]
  },
  {
   "cell_type": "code",
   "execution_count": 3,
   "id": "11cdd7a6",
   "metadata": {},
   "outputs": [],
   "source": [
    "transform = A.Compose([\n",
    "    ToTensorV2(transpose_mask=True)\n",
    "])"
   ]
  },
  {
   "cell_type": "code",
   "execution_count": 4,
   "id": "2a60f7e7",
   "metadata": {},
   "outputs": [
    {
     "name": "stdout",
     "output_type": "stream",
     "text": [
      "(1600, 400, 400, 3) (1600, 400, 400, 1)\n",
      "(200, 400, 400, 3) (200, 400, 400, 1)\n"
     ]
    }
   ],
   "source": [
    "train_loader, val_loader = make_dataloader('both', transform , random_seed, batch_size, mode)"
   ]
  },
  {
   "cell_type": "code",
   "execution_count": 5,
   "id": "0889f9ee",
   "metadata": {},
   "outputs": [],
   "source": [
    "img, target = next(iter(val_loader))\n",
    "img = img.to(device)\n",
    "target = target.to(device)"
   ]
  },
  {
   "cell_type": "code",
   "execution_count": 6,
   "id": "c3c3fb83",
   "metadata": {},
   "outputs": [
    {
     "data": {
      "text/plain": [
       "torch.Size([16, 3, 400, 400])"
      ]
     },
     "execution_count": 6,
     "metadata": {},
     "output_type": "execute_result"
    }
   ],
   "source": [
    "img.shape"
   ]
  },
  {
   "cell_type": "code",
   "execution_count": 7,
   "id": "2663fcc7",
   "metadata": {},
   "outputs": [],
   "source": [
    "if model_type == 'unet':\n",
    "    model = pretrained_unet(True).to(device)\n",
    "elif model_type == 'caranet':\n",
    "    model = caranet().to(device)"
   ]
  },
  {
   "cell_type": "code",
   "execution_count": 8,
   "id": "0ae7adb5",
   "metadata": {
    "scrolled": false
   },
   "outputs": [
    {
     "data": {
      "text/plain": [
       "<All keys matched successfully>"
      ]
     },
     "execution_count": 8,
     "metadata": {},
     "output_type": "execute_result"
    }
   ],
   "source": [
    "filename = 'models/unet_12-01_15-41.pt'\n",
    "model.load_state_dict(torch.load(f'{filename}'))"
   ]
  },
  {
   "cell_type": "code",
   "execution_count": 9,
   "id": "1ea2ec63",
   "metadata": {},
   "outputs": [],
   "source": [
    "y_pred = model(img.float())"
   ]
  },
  {
   "cell_type": "code",
   "execution_count": 10,
   "id": "4d09c0c3",
   "metadata": {
    "scrolled": true
   },
   "outputs": [
    {
     "data": {
      "image/png": "[encoded data removed]",
      "text/plain": [
       "<Figure size 432x288 with 1 Axes>"
      ]
     },
     "metadata": {
      "needs_background": "light"
     },
     "output_type": "display_data"
    }
   ],
   "source": [
    "plt.imshow(y_pred[0].cpu().detach().numpy().transpose(1,2,0))\n",
    "plt.show()"
   ]
  },
  {
   "cell_type": "code",
   "execution_count": 11,
   "id": "820fab3a",
   "metadata": {},
   "outputs": [],
   "source": [
    "import torchvision.transforms as transforms"
   ]
  },
  {
   "cell_type": "code",
   "execution_count": 12,
   "id": "cc8229b7",
   "metadata": {},
   "outputs": [],
   "source": [
    "def resize_return(y_pred, cutoff, originsize, pad_size): ## cutoff, originsize(tuple)\n",
    "    h, w = originsize\n",
    "    h += cutoff\n",
    "    inverse = transforms.Compose([transforms.Pad(padding=(pad_size,0), fill=0), ## padding size == 88 ? 확인 필요\n",
    "                                 transforms.Resize((h,w)),\n",
    "                                 transforms.Pad(padding=(0,cutoff,0,0), fill=0)]) \n",
    "    \n",
    "    y_pred_inverse = inverse(y_pred)\n",
    "    return y_pred_inverse"
   ]
  },
  {
   "cell_type": "code",
   "execution_count": null,
   "id": "e181ced2",
   "metadata": {},
   "outputs": [],
   "source": []
  }
 ],
 "metadata": {
  "kernelspec": {
   "display_name": "Python 3 (ipykernel)",
   "language": "python",
   "name": "python3"
  },
  "language_info": {
   "codemirror_mode": {
    "name": "ipython",
    "version": 3
   },
   "file_extension": ".py",
   "mimetype": "text/x-python",
   "name": "python",
   "nbconvert_exporter": "python",
   "pygments_lexer": "ipython3",
   "version": "3.7.11"
  }
 },
 "nbformat": 4,
 "nbformat_minor": 5
}
