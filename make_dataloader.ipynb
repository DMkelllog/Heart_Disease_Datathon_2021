{
 "cells": [
  {
   "cell_type": "code",
   "execution_count": 3,
   "metadata": {},
   "outputs": [],
   "source": [
    "import os\n",
    "import numpy as np\n",
    "import matplotlib.pyplot as plt\n",
    "import pickle\n",
    "\n",
    "import torch\n",
    "from torch.utils.data import Dataset, DataLoader\n",
    "\n",
    "import torchvision.transforms as transforms"
   ]
  },
  {
   "cell_type": "markdown",
   "metadata": {},
   "source": [
    "# Make Pickle"
   ]
  },
  {
   "cell_type": "code",
   "execution_count": 12,
   "metadata": {},
   "outputs": [],
   "source": [
    "for mode in ['train', 'validation']:\n",
    "    for version in ['A2C', 'A4C']:\n",
    "        X_list = []\n",
    "        y_list = []\n",
    "\n",
    "        PATH = f'data/resize_crop/{mode}/{version}'\n",
    "        img_list = sorted(os.listdir(f'{PATH}/img/'))\n",
    "\n",
    "        for img_name in img_list:\n",
    "            img = plt.imread(f'{PATH}/img/{img_name}')\n",
    "            mask = np.load(f'{PATH}/mask/{img_name[:-4]}.npy')\n",
    "\n",
    "            X_list.append(img[:, :, :3])\n",
    "            y_list.append(mask)\n",
    "\n",
    "        with open(f'data/{mode}_{version}.pickle', 'wb') as f:\n",
    "            pickle.dump([np.array(X_list), np.array(y_list)], f)"
   ]
  },
  {
   "cell_type": "code",
   "execution_count": 13,
   "metadata": {},
   "outputs": [
    {
     "name": "stdout",
     "output_type": "stream",
     "text": [
      "(800, 400, 400, 3) (800, 400, 400, 1)\n",
      "(800, 400, 400, 3) (800, 400, 400, 1)\n",
      "(100, 400, 400, 3) (100, 400, 400, 1)\n",
      "(100, 400, 400, 3) (100, 400, 400, 1)\n"
     ]
    }
   ],
   "source": [
    "for mode in ['train', 'validation']:\n",
    "    for version in ['A2C', 'A4C']:\n",
    "        with open(f'data/{mode}_{version}.pickle', 'rb') as f:\n",
    "            data = pickle.load(f)\n",
    "\n",
    "        print(data[0].shape, data[1].shape)"
   ]
  },
  {
   "cell_type": "markdown",
   "metadata": {},
   "source": [
    "# Make DataLoader"
   ]
  },
  {
   "cell_type": "code",
   "execution_count": 24,
   "metadata": {},
   "outputs": [],
   "source": [
    "class CustomDataset(Dataset):\n",
    "    def __init__(self, mode, version, transform=False):\n",
    "        with open(f'data/{mode}_{version}.pickle', 'rb') as f:\n",
    "            X, y = pickle.load(f)\n",
    "        \n",
    "        self.X = X\n",
    "        self.y = y\n",
    "\n",
    "        self.transform = transform\n",
    "        \n",
    "    def __getitem__(self, index):\n",
    "        img, mask = self.X[index], self.y[index]\n",
    "\n",
    "        if self.transform:\n",
    "            img = self.transform(img)\n",
    "            mask = self.transform(mask)\n",
    "\n",
    "        return img, mask\n",
    "\n",
    "    def __len__(self):\n",
    "        return len(self.X)"
   ]
  },
  {
   "cell_type": "code",
   "execution_count": 26,
   "metadata": {},
   "outputs": [],
   "source": [
    "train_2_dataset = CustomDataset('train', 'A2C')\n",
    "train_4_dataset = CustomDataset('train', 'A4C')\n",
    "val_2_dataset = CustomDataset('validation', 'A2C')\n",
    "val_4_dataset = CustomDataset('validation', 'A4C')"
   ]
  },
  {
   "cell_type": "code",
   "execution_count": 27,
   "metadata": {},
   "outputs": [],
   "source": [
    "train_2_dataloader = DataLoader(train_2_dataset, batch_size=40, shuffle=False)\n",
    "train_4_dataloader = DataLoader(train_2_dataset, batch_size=40, shuffle=False)\n",
    "val_2_dataloader = DataLoader(val_2_dataset, batch_size=40, shuffle=False)\n",
    "val_4_dataloader = DataLoader(val_4_dataset, batch_size=40, shuffle=False)"
   ]
  },
  {
   "cell_type": "code",
   "execution_count": 28,
   "metadata": {},
   "outputs": [
    {
     "name": "stdout",
     "output_type": "stream",
     "text": [
      "torch.Size([40, 400, 400, 3])\n",
      "torch.Size([40, 400, 400, 1])\n",
      "torch.Size([40, 400, 400, 3])\n",
      "torch.Size([40, 400, 400, 1])\n",
      "torch.Size([40, 400, 400, 3])\n",
      "torch.Size([40, 400, 400, 1])\n",
      "torch.Size([40, 400, 400, 3])\n",
      "torch.Size([40, 400, 400, 1])\n",
      "torch.Size([40, 400, 400, 3])\n",
      "torch.Size([40, 400, 400, 1])\n",
      "torch.Size([40, 400, 400, 3])\n",
      "torch.Size([40, 400, 400, 1])\n",
      "torch.Size([40, 400, 400, 3])\n",
      "torch.Size([40, 400, 400, 1])\n",
      "torch.Size([40, 400, 400, 3])\n",
      "torch.Size([40, 400, 400, 1])\n",
      "torch.Size([40, 400, 400, 3])\n",
      "torch.Size([40, 400, 400, 1])\n",
      "torch.Size([40, 400, 400, 3])\n",
      "torch.Size([40, 400, 400, 1])\n",
      "torch.Size([40, 400, 400, 3])\n",
      "torch.Size([40, 400, 400, 1])\n",
      "torch.Size([40, 400, 400, 3])\n",
      "torch.Size([40, 400, 400, 1])\n",
      "torch.Size([40, 400, 400, 3])\n",
      "torch.Size([40, 400, 400, 1])\n",
      "torch.Size([40, 400, 400, 3])\n",
      "torch.Size([40, 400, 400, 1])\n",
      "torch.Size([40, 400, 400, 3])\n",
      "torch.Size([40, 400, 400, 1])\n",
      "torch.Size([40, 400, 400, 3])\n",
      "torch.Size([40, 400, 400, 1])\n",
      "torch.Size([40, 400, 400, 3])\n",
      "torch.Size([40, 400, 400, 1])\n",
      "torch.Size([40, 400, 400, 3])\n",
      "torch.Size([40, 400, 400, 1])\n",
      "torch.Size([40, 400, 400, 3])\n",
      "torch.Size([40, 400, 400, 1])\n",
      "torch.Size([40, 400, 400, 3])\n",
      "torch.Size([40, 400, 400, 1])\n"
     ]
    }
   ],
   "source": [
    "for (img, mask) in train_2_dataloader:\n",
    "    print(img.shape)\n",
    "    print(mask.shape)"
   ]
  }
 ],
 "metadata": {
  "interpreter": {
   "hash": "20cdafe2e99dd3229e106cc14ae2697f2b46c853e8978f749e3be6d16c18b540"
  },
  "kernelspec": {
   "display_name": "Python 3.7.10 64-bit ('tch_dm': conda)",
   "language": "python",
   "name": "python3"
  },
  "language_info": {
   "codemirror_mode": {
    "name": "ipython",
    "version": 3
   },
   "file_extension": ".py",
   "mimetype": "text/x-python",
   "name": "python",
   "nbconvert_exporter": "python",
   "pygments_lexer": "ipython3",
   "version": "3.7.10"
  },
  "orig_nbformat": 4
 },
 "nbformat": 4,
 "nbformat_minor": 2
}
