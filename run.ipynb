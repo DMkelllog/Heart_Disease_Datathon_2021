{
 "cells": [
  {
   "cell_type": "markdown",
   "metadata": {},
   "source": [
    "# Import Library"
   ]
  },
  {
   "cell_type": "code",
   "execution_count": 2,
   "metadata": {},
   "outputs": [
    {
     "name": "stdout",
     "output_type": "stream",
     "text": [
      "The autoreload extension is already loaded. To reload it, use:\n",
      "  %reload_ext autoreload\n"
     ]
    }
   ],
   "source": [
    "%load_ext autoreload\n",
    "%autoreload 2\n",
    "\n",
    "\n",
    "import numpy as np\n",
    "import matplotlib.pyplot as plt\n",
    "import datetime\n",
    "\n",
    "import torch\n",
    "\n",
    "from torch.optim import Adam\n",
    "from torch.optim.lr_scheduler import ReduceLROnPlateau\n",
    "from torch import optim\n",
    "import numpy as np\n",
    "import pickle\n",
    "from tqdm import tqdm\n",
    "\n",
    "import albumentations as A\n",
    "from albumentations.pytorch import ToTensorV2\n",
    "\n",
    "from utils import *\n",
    "\n",
    "from models import caranet\n",
    "from unet import pretrained_unet\n",
    "\n",
    "from metrics import DiceLoss\n",
    "\n"
   ]
  },
  {
   "cell_type": "code",
   "execution_count": 4,
   "metadata": {},
   "outputs": [],
   "source": [
    "##### Hyperparameter Settings ####\n",
    "device = 'cuda' if torch.cuda.is_available() else 'cpu'\n",
    "leraning_rate = 1e-4\n",
    "weight_decay = 1e-10\n",
    "batch_size = 16\n",
    "num_epochs = 1000\n",
    "early_stopping_patience = 10\n",
    "random_seed = 42\n",
    "date_time = datetime.datetime.now().strftime(\"%m-%d_%H-%M\")\n",
    "\n",
    "model_type = 'caranet'\n",
    "#model_type = 'unet'\n",
    "\n",
    "filename = f'models/{model_type}_{date_time}.pt'\n",
    "\n",
    "if model_type == 'unet':\n",
    "    mode = 'base'\n",
    "elif model_type == 'caranet':\n",
    "    mode = 'caranet'\n",
    "#################################"
   ]
  },
  {
   "cell_type": "markdown",
   "metadata": {},
   "source": [
    "# Dataloader"
   ]
  },
  {
   "cell_type": "code",
   "execution_count": 5,
   "metadata": {},
   "outputs": [],
   "source": [
    "transform = A.Compose([\n",
    "    A.HorizontalFlip(),\n",
    "    ToTensorV2(transpose_mask=True)\n",
    "])\n",
    "\n"
   ]
  },
  {
   "cell_type": "code",
   "execution_count": 6,
   "metadata": {},
   "outputs": [
    {
     "name": "stdout",
     "output_type": "stream",
     "text": [
      "train image shape: (1600, 352, 352, 3) \n",
      "train mask shape: (1600, 352, 352, 1)\n",
      "test image shape: (200, 352, 352, 3) \n",
      "test mask shape: (200, 352, 352, 1)\n"
     ]
    }
   ],
   "source": [
    "_2_4_loader, _2_loader, _4_loader = make_dataloader(transform, random_seed, batch_size, mode)\n",
    "\n",
    "train_2_4_loader, val_2_4_loader, test_2_4_loader = _2_4_loader\n",
    "train_2_loader, val_2_loader, test_2_loader = _2_loader\n",
    "train_4_loader, val_4_loader, test_4_loader = _4_loader\n"
   ]
  },
  {
   "cell_type": "markdown",
   "metadata": {},
   "source": [
    "# Pre-Training"
   ]
  },
  {
   "cell_type": "code",
   "execution_count": 10,
   "metadata": {},
   "outputs": [],
   "source": [
    "if model_type == 'unet':\n",
    "    model = pretrained_unet(True).to(device)\n",
    "elif model_type == 'caranet':\n",
    "    model = caranet().to(device)\n",
    "optimizer = Adam(model.parameters(), lr=leraning_rate, weight_decay=weight_decay)\n",
    "scheduler = ReduceLROnPlateau(optimizer, mode='min', factor=0.1, patience=20, min_lr=leraning_rate/1000, verbose=False)\n",
    "criterion = DiceLoss()\n",
    "\n",
    "early_stopping = EarlyStopping(patience = 20, verbose = False, path = filename)\n",
    "loss_dict = {'train': [], 'val': []}"
   ]
  },
  {
   "cell_type": "code",
   "execution_count": 11,
   "metadata": {},
   "outputs": [],
   "source": [
    "train_loader = train_2_4_loader\n",
    "val_loader = val_2_4_loader"
   ]
  },
  {
   "cell_type": "code",
   "execution_count": 12,
   "metadata": {},
   "outputs": [
    {
     "name": "stderr",
     "output_type": "stream",
     "text": [
      "/home/kang/anaconda3/envs/torch/lib/python3.7/site-packages/torch/nn/functional.py:3613: UserWarning: Default upsampling behavior when mode=bilinear is changed to align_corners=False since 0.4.0. Please specify align_corners=True if the old behavior is desired. See the documentation of nn.Upsample for details.\n",
      "  \"See the documentation of nn.Upsample for details.\".format(mode)\n",
      "/home/kang/anaconda3/envs/torch/lib/python3.7/site-packages/torch/nn/functional.py:3658: UserWarning: The default behavior for interpolate/upsample with float scale_factor changed in 1.6.0 to align with other frameworks/libraries, and now uses scale_factor directly, instead of relying on the computed output size. If you wish to restore the old behavior, please set recompute_scale_factor=True. See the documentation of nn.Upsample for details. \n",
      "  \"The default behavior for interpolate/upsample with float scale_factor changed \"\n",
      "/home/kang/anaconda3/envs/torch/lib/python3.7/site-packages/torch/nn/_reduction.py:42: UserWarning: size_average and reduce args will be deprecated, please use reduction='mean' instead.\n",
      "  warnings.warn(warning.format(ret))\n"
     ]
    },
    {
     "name": "stdout",
     "output_type": "stream",
     "text": [
      "Validation loss decreased (inf --> 1.385891).  Saving model ...\n",
      "Epoch 0 train_loss: 2.46503   val_loss: 1.38589\n",
      "Validation loss decreased (1.385891 --> 1.016050).  Saving model ...\n",
      "Epoch 1 train_loss: 1.09384   val_loss: 1.01605\n",
      "EarlyStopping counter: 1 out of 20\n",
      "Epoch 2 train_loss: 0.93957   val_loss: 1.11512\n",
      "Validation loss decreased (1.016050 --> 0.919681).  Saving model ...\n",
      "Epoch 3 train_loss: 0.88128   val_loss: 0.91968\n",
      "Validation loss decreased (0.919681 --> 0.904498).  Saving model ...\n",
      "Epoch 4 train_loss: 0.80884   val_loss: 0.90450\n",
      "Validation loss decreased (0.904498 --> 0.888192).  Saving model ...\n",
      "Epoch 5 train_loss: 0.75911   val_loss: 0.88819\n",
      "EarlyStopping counter: 1 out of 20\n",
      "Epoch 6 train_loss: 0.74306   val_loss: 0.97678\n"
     ]
    }
   ],
   "source": [
    "for epoch in range(num_epochs):\n",
    "    model.train()\n",
    "    \n",
    "    train_losses = []\n",
    "    for it_1, (img, mask) in enumerate(train_loader):\n",
    "        #print(train_img)\n",
    "        img = img.to(device)\n",
    "        mask = mask.to(device).float()\n",
    "        #print(train_label)\n",
    "        if mode == 'base':\n",
    "            y_pred = model(img)\n",
    "            loss = criterion(y_pred, mask)\n",
    "            train_losses.append(loss.item())\n",
    "            optimizer.zero_grad()\n",
    "            loss.backward()\n",
    "            optimizer.step()\n",
    "\n",
    "        elif mode == 'caranet':\n",
    "            train_lrmap_5,train_lrmap_3,train_lrmap_2,train_lrmap_1 = model(img)\n",
    "            train_loss5 = structure_loss(train_lrmap_5, mask)\n",
    "            train_loss3 = structure_loss(train_lrmap_3, mask)\n",
    "            train_loss2 = structure_loss(train_lrmap_2, mask)\n",
    "            train_loss1 = structure_loss(train_lrmap_1, mask)\n",
    "        \n",
    "            loss = train_loss5 + train_loss3 + train_loss2 + train_loss1\n",
    "        \n",
    "            train_losses.append(loss.item())\n",
    "            \n",
    "            optimizer.zero_grad()\n",
    "            loss.backward()\n",
    "            clip_gradient(optimizer, 0.5)\n",
    "            optimizer.step()\n",
    "    \n",
    "    train_loss = np.average(train_losses)\n",
    "\n",
    "    loss_dict['train'].append(train_loss)\n",
    "\n",
    "    model.eval()\n",
    "    with torch.no_grad():\n",
    "        valid_losses = []\n",
    "        for it_2, (img, mask) in enumerate(val_loader):\n",
    "            img = img.to(device)\n",
    "            mask = mask.to(device).float()\n",
    "            #print(train_label)\n",
    "            if mode == 'base':\n",
    "                y_pred = model(img)\n",
    "                loss = criterion(y_pred, mask)\n",
    "                valid_losses.append(loss.item())\n",
    "\n",
    "            elif mode == 'caranet':\n",
    "                lrmap_5, lrmap_3, lrmap_2, lrmap_1 = model(img)\n",
    "                loss5 = structure_loss(lrmap_5, mask)\n",
    "                loss3 = structure_loss(lrmap_3, mask)\n",
    "                loss2 = structure_loss(lrmap_2, mask)\n",
    "                loss1 = structure_loss(lrmap_1, mask)\n",
    "            \n",
    "                loss = loss5 + loss3 + loss2 + loss1\n",
    "                valid_losses.append(loss.item())\n",
    "        \n",
    "        valid_loss = np.average(valid_losses)\n",
    "        scheduler.step(valid_loss)\n",
    "        \n",
    "        early_stopping(valid_loss, model)\n",
    "        if early_stopping.early_stop:\n",
    "            print(\"Early stopping\")\n",
    "            break\n",
    "#            scheduler.step(float(val_loss))\n",
    "        loss_dict['val'].append(valid_loss)\n",
    "            \n",
    "    print(f'Epoch {epoch} train_loss: {train_loss:0.5f}   val_loss: {valid_loss:0.5f}')"
   ]
  },
  {
   "cell_type": "markdown",
   "metadata": {},
   "source": [
    "# Finetuning"
   ]
  },
  {
   "cell_type": "code",
   "execution_count": null,
   "metadata": {},
   "outputs": [],
   "source": []
  },
  {
   "cell_type": "markdown",
   "metadata": {},
   "source": [
    "# Evaluate"
   ]
  },
  {
   "cell_type": "code",
   "execution_count": null,
   "metadata": {},
   "outputs": [
    {
     "data": {
      "text/plain": [
       "<All keys matched successfully>"
      ]
     },
     "execution_count": 8,
     "metadata": {},
     "output_type": "execute_result"
    }
   ],
   "source": [
    "# load best model\n",
    "model.load_state_dict(torch.load(f'{filename}'))"
   ]
  },
  {
   "cell_type": "code",
   "execution_count": null,
   "metadata": {},
   "outputs": [],
   "source": [
    "from utils import *"
   ]
  },
  {
   "cell_type": "code",
   "execution_count": null,
   "metadata": {},
   "outputs": [],
   "source": [
    "x,y = next(iter(test_2_4_loader))"
   ]
  },
  {
   "cell_type": "code",
   "execution_count": null,
   "metadata": {},
   "outputs": [
    {
     "data": {
      "text/plain": [
       "(torch.Size([16, 3, 400, 400]), torch.Size([16, 1, 400, 400]))"
      ]
     },
     "execution_count": 13,
     "metadata": {},
     "output_type": "execute_result"
    }
   ],
   "source": [
    "x.shape, y.shape"
   ]
  },
  {
   "cell_type": "code",
   "execution_count": null,
   "metadata": {},
   "outputs": [
    {
     "name": "stdout",
     "output_type": "stream",
     "text": [
      "(200, 1, 400, 400) (200, 1, 400, 400)\n",
      "Dice Similarity:    0.9310 \n",
      "Jaccard Similarity: 0.8746\n"
     ]
    },
    {
     "data": {
      "text/plain": [
       "(0.93097356219048, 0.8746172610912453)"
      ]
     },
     "execution_count": 17,
     "metadata": {},
     "output_type": "execute_result"
    }
   ],
   "source": [
    "evaluate(model, test_2_4_loader, mode)"
   ]
  },
  {
   "cell_type": "code",
   "execution_count": null,
   "metadata": {},
   "outputs": [
    {
     "name": "stdout",
     "output_type": "stream",
     "text": [
      "(100, 1, 400, 400) (100, 1, 400, 400)\n",
      "Dice Similarity:    0.9288 \n",
      "Jaccard Similarity: 0.8709\n"
     ]
    },
    {
     "data": {
      "text/plain": [
       "(0.9287668186120144, 0.8709392917465969)"
      ]
     },
     "execution_count": 18,
     "metadata": {},
     "output_type": "execute_result"
    }
   ],
   "source": [
    "evaluate(model, test_2_loader, mode)"
   ]
  },
  {
   "cell_type": "code",
   "execution_count": 19,
   "metadata": {},
   "outputs": [
    {
     "name": "stdout",
     "output_type": "stream",
     "text": [
      "(100, 1, 400, 400) (100, 1, 400, 400)\n",
      "Dice Similarity:    0.9332 \n",
      "Jaccard Similarity: 0.8783\n"
     ]
    },
    {
     "data": {
      "text/plain": [
       "(0.9331803057689456, 0.8782952304358933)"
      ]
     },
     "execution_count": 19,
     "metadata": {},
     "output_type": "execute_result"
    }
   ],
   "source": [
    "evaluate(model, test_4_loader, mode)"
   ]
  },
  {
   "cell_type": "code",
   "execution_count": null,
   "metadata": {},
   "outputs": [],
   "source": []
  }
 ],
 "metadata": {
  "interpreter": {
   "hash": "67279a16936c44c66ab678de41f1260360b345454ec17353bfa5d06d9ac761b8"
  },
  "kernelspec": {
   "display_name": "Python 3.7.11 64-bit ('torch': conda)",
   "language": "python",
   "name": "python3"
  },
  "language_info": {
   "codemirror_mode": {
    "name": "ipython",
    "version": 3
   },
   "file_extension": ".py",
   "mimetype": "text/x-python",
   "name": "python",
   "nbconvert_exporter": "python",
   "pygments_lexer": "ipython3",
   "version": "3.7.11"
  },
  "orig_nbformat": 4
 },
 "nbformat": 4,
 "nbformat_minor": 2
}
