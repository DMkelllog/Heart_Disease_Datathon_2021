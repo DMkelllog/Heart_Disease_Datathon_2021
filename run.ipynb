{
 "cells": [
  {
   "cell_type": "markdown",
   "metadata": {},
   "source": [
    "# Import Library"
   ]
  },
  {
   "cell_type": "code",
   "execution_count": 2,
   "metadata": {},
   "outputs": [
    {
     "name": "stdout",
     "output_type": "stream",
     "text": [
      "The autoreload extension is already loaded. To reload it, use:\n",
      "  %reload_ext autoreload\n"
     ]
    }
   ],
   "source": [
    "%load_ext autoreload\n",
    "%autoreload 2\n",
    "\n",
    "\n",
    "import numpy as np\n",
    "import matplotlib.pyplot as plt\n",
    "import datetime\n",
    "\n",
    "import torch\n",
    "\n",
    "from torch.optim import Adam\n",
    "from torch.optim.lr_scheduler import ReduceLROnPlateau\n",
    "from torch import optim\n",
    "import numpy as np\n",
    "import pickle\n",
    "from tqdm import tqdm\n",
    "\n",
    "import albumentations as A\n",
    "from albumentations.pytorch import ToTensorV2\n",
    "\n",
    "from utils import *\n",
    "\n",
    "from models import caranet\n",
    "from unet import pretrained_unet\n",
    "\n",
    "from metrics import DiceLoss\n",
    "\n"
   ]
  },
  {
   "cell_type": "code",
   "execution_count": 22,
   "metadata": {},
   "outputs": [],
   "source": [
    "##### Hyperparameter Settings ####\n",
    "device = 'cuda' if torch.cuda.is_available() else 'cpu'\n",
    "learning_rate = 1e-4\n",
    "weight_decay = 1e-10\n",
    "batch_size = 16\n",
    "num_epochs = 1000\n",
    "early_stopping_patience = 10\n",
    "random_seed = 42\n",
    "date_time = datetime.datetime.now().strftime(\"%m-%d_%H-%M\")\n",
    "\n",
    "# model_type = 'caranet'\n",
    "model_type = 'unet'\n",
    "\n",
    "filename = f'models/{model_type}_{date_time}.pt'\n",
    "\n",
    "if model_type == 'unet':\n",
    "    mode = 'base'\n",
    "elif model_type == 'caranet':\n",
    "    mode = 'caranet'\n",
    "#################################"
   ]
  },
  {
   "cell_type": "markdown",
   "metadata": {},
   "source": [
    "# Dataloader"
   ]
  },
  {
   "cell_type": "code",
   "execution_count": 7,
   "metadata": {},
   "outputs": [],
   "source": [
    "transform = A.Compose([\n",
    "    A.HorizontalFlip(),\n",
    "    ToTensorV2(transpose_mask=True)\n",
    "])\n",
    "\n"
   ]
  },
  {
   "cell_type": "code",
   "execution_count": 19,
   "metadata": {},
   "outputs": [
    {
     "name": "stdout",
     "output_type": "stream",
     "text": [
      "train image shape: (1600, 400, 400, 3) \n",
      "train mask shape: (1600, 400, 400, 1)\n",
      "test image shape: (200, 400, 400, 3) \n",
      "test mask shape: (200, 400, 400, 1)\n"
     ]
    }
   ],
   "source": [
    "_2_4_loader, _2_loader, _4_loader = make_dataloader(transform, random_seed, batch_size, mode)\n",
    "\n",
    "train_2_4_loader, test_2_4_loader = _2_4_loader\n",
    "train_2_loader, test_2_loader = _2_loader\n",
    "train_4_loader, test_4_loader = _4_loader\n"
   ]
  },
  {
   "cell_type": "markdown",
   "metadata": {},
   "source": [
    "# Pre-Training"
   ]
  },
  {
   "cell_type": "code",
   "execution_count": 20,
   "metadata": {},
   "outputs": [
    {
     "name": "stderr",
     "output_type": "stream",
     "text": [
      "Downloading: \"https://github.com/mateuszbuda/brain-segmentation-pytorch/releases/download/v1.0/unet-e012d006.pt\" to /home/sunbinlee/.cache/torch/hub/checkpoints/unet-e012d006.pt\n"
     ]
    }
   ],
   "source": [
    "if model_type == 'unet':\n",
    "    model = pretrained_unet(True).to(device)\n",
    "elif model_type == 'caranet':\n",
    "    model = caranet().to(device)\n",
    "optimizer = Adam(model.parameters(), lr=learning_rate, weight_decay=weight_decay)\n",
    "scheduler = ReduceLROnPlateau(optimizer, mode='min', factor=0.1, patience=20, min_lr=leraning_rate/1000, verbose=False)\n",
    "criterion = DiceLoss()\n",
    "\n",
    "early_stopping = EarlyStopping(patience = 20, verbose = False, path = filename)\n",
    "loss_dict = {'train': [], 'val': []}"
   ]
  },
  {
   "cell_type": "code",
   "execution_count": 21,
   "metadata": {},
   "outputs": [],
   "source": [
    "train_loader = train_2_4_loader\n",
    "val_loader = val_2_4_loader"
   ]
  },
  {
   "cell_type": "code",
   "execution_count": 11,
   "metadata": {
    "scrolled": false
   },
   "outputs": [
    {
     "name": "stdout",
     "output_type": "stream",
     "text": [
      "Epoch 0 train_loss: 0.71702   val_loss: 0.66310\n",
      "Epoch 1 train_loss: 0.63567   val_loss: 0.62090\n",
      "Epoch 2 train_loss: 0.60623   val_loss: 0.60054\n",
      "Epoch 3 train_loss: 0.58137   val_loss: 0.58401\n",
      "Epoch 4 train_loss: 0.55619   val_loss: 0.54848\n",
      "Epoch 5 train_loss: 0.52998   val_loss: 0.52371\n",
      "Epoch 6 train_loss: 0.49966   val_loss: 0.48504\n",
      "Epoch 7 train_loss: 0.46458   val_loss: 0.47178\n",
      "Epoch 8 train_loss: 0.43170   val_loss: 0.43726\n",
      "Epoch 9 train_loss: 0.39988   val_loss: 0.38938\n",
      "Epoch 10 train_loss: 0.37061   val_loss: 0.36117\n",
      "Epoch 11 train_loss: 0.34461   val_loss: 0.32991\n",
      "Epoch 12 train_loss: 0.31447   val_loss: 0.31413\n",
      "Epoch 13 train_loss: 0.28770   val_loss: 0.29499\n",
      "EarlyStopping counter: 1 out of 20\n",
      "Epoch 14 train_loss: 0.26526   val_loss: 0.35615\n",
      "Epoch 15 train_loss: 0.24566   val_loss: 0.25535\n",
      "Epoch 16 train_loss: 0.22397   val_loss: 0.22701\n",
      "Epoch 17 train_loss: 0.20889   val_loss: 0.20628\n",
      "Epoch 18 train_loss: 0.18948   val_loss: 0.18851\n",
      "Epoch 19 train_loss: 0.17482   val_loss: 0.17832\n",
      "Epoch 20 train_loss: 0.16114   val_loss: 0.17235\n",
      "Epoch 21 train_loss: 0.15028   val_loss: 0.15974\n",
      "Epoch 22 train_loss: 0.14000   val_loss: 0.14682\n",
      "Epoch 23 train_loss: 0.13316   val_loss: 0.14057\n",
      "EarlyStopping counter: 1 out of 20\n",
      "Epoch 24 train_loss: 0.12307   val_loss: 0.15590\n",
      "Epoch 25 train_loss: 0.11733   val_loss: 0.12740\n",
      "Epoch 26 train_loss: 0.11040   val_loss: 0.11896\n",
      "Epoch 27 train_loss: 0.10336   val_loss: 0.11609\n",
      "Epoch 28 train_loss: 0.09660   val_loss: 0.11184\n",
      "Epoch 29 train_loss: 0.09017   val_loss: 0.10368\n",
      "EarlyStopping counter: 1 out of 20\n",
      "Epoch 30 train_loss: 0.08506   val_loss: 0.13858\n",
      "Epoch 31 train_loss: 0.08229   val_loss: 0.09957\n",
      "EarlyStopping counter: 1 out of 20\n",
      "Epoch 32 train_loss: 0.07721   val_loss: 0.10543\n",
      "Epoch 33 train_loss: 0.07430   val_loss: 0.09163\n",
      "EarlyStopping counter: 1 out of 20\n",
      "Epoch 34 train_loss: 0.07105   val_loss: 0.09185\n",
      "Epoch 35 train_loss: 0.06606   val_loss: 0.08947\n",
      "Epoch 36 train_loss: 0.06403   val_loss: 0.08571\n",
      "Epoch 37 train_loss: 0.06087   val_loss: 0.08547\n",
      "Epoch 38 train_loss: 0.05703   val_loss: 0.08217\n",
      "EarlyStopping counter: 1 out of 20\n",
      "Epoch 39 train_loss: 0.05521   val_loss: 0.08272\n",
      "Epoch 40 train_loss: 0.05269   val_loss: 0.08074\n",
      "EarlyStopping counter: 1 out of 20\n",
      "Epoch 41 train_loss: 0.05071   val_loss: 0.13227\n",
      "Epoch 42 train_loss: 0.05829   val_loss: 0.07909\n",
      "Epoch 43 train_loss: 0.04885   val_loss: 0.07596\n",
      "Epoch 44 train_loss: 0.04744   val_loss: 0.07392\n",
      "Epoch 45 train_loss: 0.04382   val_loss: 0.07355\n",
      "EarlyStopping counter: 1 out of 20\n",
      "Epoch 46 train_loss: 0.04272   val_loss: 0.07880\n",
      "Epoch 47 train_loss: 0.04249   val_loss: 0.07185\n",
      "Epoch 48 train_loss: 0.03910   val_loss: 0.06940\n",
      "Epoch 49 train_loss: 0.03707   val_loss: 0.06896\n",
      "EarlyStopping counter: 1 out of 20\n",
      "Epoch 50 train_loss: 0.03527   val_loss: 0.06896\n",
      "Epoch 51 train_loss: 0.03500   val_loss: 0.06857\n",
      "EarlyStopping counter: 1 out of 20\n",
      "Epoch 52 train_loss: 0.03525   val_loss: 0.07720\n",
      "EarlyStopping counter: 2 out of 20\n",
      "Epoch 53 train_loss: 0.03395   val_loss: 0.07061\n",
      "EarlyStopping counter: 3 out of 20\n",
      "Epoch 54 train_loss: 0.03176   val_loss: 0.06915\n",
      "EarlyStopping counter: 4 out of 20\n",
      "Epoch 55 train_loss: 0.03137   val_loss: 0.06907\n",
      "Epoch 56 train_loss: 0.02967   val_loss: 0.06808\n",
      "EarlyStopping counter: 1 out of 20\n",
      "Epoch 57 train_loss: 0.02911   val_loss: 0.06892\n",
      "Epoch 58 train_loss: 0.02824   val_loss: 0.06618\n",
      "Epoch 59 train_loss: 0.02718   val_loss: 0.06400\n",
      "EarlyStopping counter: 1 out of 20\n",
      "Epoch 60 train_loss: 0.02641   val_loss: 0.06917\n",
      "EarlyStopping counter: 2 out of 20\n",
      "Epoch 61 train_loss: 0.02637   val_loss: 0.06552\n",
      "EarlyStopping counter: 3 out of 20\n",
      "Epoch 62 train_loss: 0.02563   val_loss: 0.06711\n",
      "Epoch 63 train_loss: 0.02536   val_loss: 0.06310\n",
      "EarlyStopping counter: 1 out of 20\n",
      "Epoch 64 train_loss: 0.03261   val_loss: 0.08879\n",
      "EarlyStopping counter: 2 out of 20\n",
      "Epoch 65 train_loss: 0.02733   val_loss: 0.06653\n",
      "EarlyStopping counter: 3 out of 20\n",
      "Epoch 66 train_loss: 0.02369   val_loss: 0.06589\n",
      "Epoch 67 train_loss: 0.02270   val_loss: 0.06116\n",
      "EarlyStopping counter: 1 out of 20\n",
      "Epoch 68 train_loss: 0.02203   val_loss: 0.06281\n",
      "EarlyStopping counter: 2 out of 20\n",
      "Epoch 69 train_loss: 0.02144   val_loss: 0.06582\n",
      "EarlyStopping counter: 3 out of 20\n",
      "Epoch 70 train_loss: 0.02122   val_loss: 0.06357\n",
      "EarlyStopping counter: 4 out of 20\n",
      "Epoch 71 train_loss: 0.02043   val_loss: 0.06259\n",
      "EarlyStopping counter: 5 out of 20\n",
      "Epoch 72 train_loss: 0.01979   val_loss: 0.06246\n",
      "EarlyStopping counter: 6 out of 20\n",
      "Epoch 73 train_loss: 0.01975   val_loss: 0.06137\n",
      "EarlyStopping counter: 7 out of 20\n",
      "Epoch 74 train_loss: 0.01984   val_loss: 0.06444\n",
      "Epoch 75 train_loss: 0.01945   val_loss: 0.06088\n",
      "EarlyStopping counter: 1 out of 20\n",
      "Epoch 76 train_loss: 0.01895   val_loss: 0.06373\n",
      "EarlyStopping counter: 2 out of 20\n",
      "Epoch 77 train_loss: 0.01842   val_loss: 0.06343\n",
      "Epoch 78 train_loss: 0.01811   val_loss: 0.06034\n",
      "EarlyStopping counter: 1 out of 20\n",
      "Epoch 79 train_loss: 0.01804   val_loss: 0.06360\n",
      "EarlyStopping counter: 2 out of 20\n",
      "Epoch 80 train_loss: 0.01798   val_loss: 0.06184\n",
      "EarlyStopping counter: 3 out of 20\n",
      "Epoch 81 train_loss: 0.01728   val_loss: 0.06158\n",
      "EarlyStopping counter: 4 out of 20\n",
      "Epoch 82 train_loss: 0.01721   val_loss: 0.06983\n",
      "EarlyStopping counter: 5 out of 20\n",
      "Epoch 83 train_loss: 0.01797   val_loss: 0.07228\n",
      "EarlyStopping counter: 6 out of 20\n",
      "Epoch 84 train_loss: 0.01806   val_loss: 0.06342\n"
     ]
    },
    {
     "ename": "KeyboardInterrupt",
     "evalue": "",
     "output_type": "error",
     "traceback": [
      "\u001b[0;31m---------------------------------------------------------------------------\u001b[0m",
      "\u001b[0;31mKeyboardInterrupt\u001b[0m                         Traceback (most recent call last)",
      "\u001b[0;32m/tmp/ipykernel_349292/1345391058.py\u001b[0m in \u001b[0;36m<module>\u001b[0;34m\u001b[0m\n\u001b[1;32m      5\u001b[0m     \u001b[0;32mfor\u001b[0m \u001b[0mit_1\u001b[0m\u001b[0;34m,\u001b[0m \u001b[0;34m(\u001b[0m\u001b[0mimg\u001b[0m\u001b[0;34m,\u001b[0m \u001b[0mmask\u001b[0m\u001b[0;34m)\u001b[0m \u001b[0;32min\u001b[0m \u001b[0menumerate\u001b[0m\u001b[0;34m(\u001b[0m\u001b[0mtrain_loader\u001b[0m\u001b[0;34m)\u001b[0m\u001b[0;34m:\u001b[0m\u001b[0;34m\u001b[0m\u001b[0;34m\u001b[0m\u001b[0m\n\u001b[1;32m      6\u001b[0m         \u001b[0;31m#print(train_img)\u001b[0m\u001b[0;34m\u001b[0m\u001b[0;34m\u001b[0m\u001b[0;34m\u001b[0m\u001b[0m\n\u001b[0;32m----> 7\u001b[0;31m         \u001b[0mimg\u001b[0m \u001b[0;34m=\u001b[0m \u001b[0mimg\u001b[0m\u001b[0;34m.\u001b[0m\u001b[0mto\u001b[0m\u001b[0;34m(\u001b[0m\u001b[0mdevice\u001b[0m\u001b[0;34m)\u001b[0m\u001b[0;34m\u001b[0m\u001b[0;34m\u001b[0m\u001b[0m\n\u001b[0m\u001b[1;32m      8\u001b[0m         \u001b[0mmask\u001b[0m \u001b[0;34m=\u001b[0m \u001b[0mmask\u001b[0m\u001b[0;34m.\u001b[0m\u001b[0mto\u001b[0m\u001b[0;34m(\u001b[0m\u001b[0mdevice\u001b[0m\u001b[0;34m)\u001b[0m\u001b[0;34m.\u001b[0m\u001b[0mfloat\u001b[0m\u001b[0;34m(\u001b[0m\u001b[0;34m)\u001b[0m\u001b[0;34m\u001b[0m\u001b[0;34m\u001b[0m\u001b[0m\n\u001b[1;32m      9\u001b[0m         \u001b[0;31m#print(train_label)\u001b[0m\u001b[0;34m\u001b[0m\u001b[0;34m\u001b[0m\u001b[0;34m\u001b[0m\u001b[0m\n",
      "\u001b[0;31mKeyboardInterrupt\u001b[0m: "
     ]
    }
   ],
   "source": [
    "for epoch in range(num_epochs):\n",
    "    model.train()\n",
    "    \n",
    "    train_losses = []\n",
    "    for it_1, (img, mask) in enumerate(train_loader):\n",
    "        #print(train_img)\n",
    "        img = img.to(device)\n",
    "        mask = mask.to(device).float()\n",
    "        #print(train_label)\n",
    "        if mode == 'base':\n",
    "            y_pred = model(img)\n",
    "            loss = criterion(y_pred, mask)\n",
    "            train_losses.append(loss.item())\n",
    "            optimizer.zero_grad()\n",
    "            loss.backward()\n",
    "            optimizer.step()\n",
    "\n",
    "        elif mode == 'caranet':\n",
    "            train_lrmap_5,train_lrmap_3,train_lrmap_2,train_lrmap_1 = model(img)\n",
    "            train_loss5 = structure_loss(train_lrmap_5, mask)\n",
    "            train_loss3 = structure_loss(train_lrmap_3, mask)\n",
    "            train_loss2 = structure_loss(train_lrmap_2, mask)\n",
    "            train_loss1 = structure_loss(train_lrmap_1, mask)\n",
    "        \n",
    "            loss = train_loss5 + train_loss3 + train_loss2 + train_loss1\n",
    "        \n",
    "            train_losses.append(loss.item())\n",
    "            \n",
    "            optimizer.zero_grad()\n",
    "            loss.backward()\n",
    "            clip_gradient(optimizer, 0.5)\n",
    "            optimizer.step()\n",
    "    \n",
    "    train_loss = np.average(train_losses)\n",
    "\n",
    "    loss_dict['train'].append(train_loss)\n",
    "\n",
    "    model.eval()\n",
    "    with torch.no_grad():\n",
    "        valid_losses = []\n",
    "        for it_2, (img, mask) in enumerate(val_loader):\n",
    "            img = img.to(device)\n",
    "            mask = mask.to(device).float()\n",
    "            #print(train_label)\n",
    "            if mode == 'base':\n",
    "                y_pred = model(img)\n",
    "                loss = criterion(y_pred, mask)\n",
    "                valid_losses.append(loss.item())\n",
    "\n",
    "            elif mode == 'caranet':\n",
    "                lrmap_5, lrmap_3, lrmap_2, lrmap_1 = model(img)\n",
    "                loss5 = structure_loss(lrmap_5, mask)\n",
    "                loss3 = structure_loss(lrmap_3, mask)\n",
    "                loss2 = structure_loss(lrmap_2, mask)\n",
    "                loss1 = structure_loss(lrmap_1, mask)\n",
    "            \n",
    "                loss = loss5 + loss3 + loss2 + loss1\n",
    "                valid_losses.append(loss.item())\n",
    "        \n",
    "        valid_loss = np.average(valid_losses)\n",
    "        scheduler.step(valid_loss)\n",
    "        \n",
    "        early_stopping(valid_loss, model)\n",
    "        if early_stopping.early_stop:\n",
    "            print(\"Early stopping\")\n",
    "            break\n",
    "#            scheduler.step(float(val_loss))\n",
    "        loss_dict['val'].append(valid_loss)\n",
    "            \n",
    "    print(f'Epoch {epoch} train_loss: {train_loss:0.5f}   val_loss: {valid_loss:0.5f}')"
   ]
  },
  {
   "cell_type": "markdown",
   "metadata": {},
   "source": [
    "# Finetuning"
   ]
  },
  {
   "cell_type": "code",
   "execution_count": 30,
   "metadata": {},
   "outputs": [],
   "source": [
    "learning_rate = 1e-5\n",
    "optimizer = Adam(model.parameters(), lr=learning_rate, weight_decay=weight_decay)"
   ]
  },
  {
   "cell_type": "code",
   "execution_count": 23,
   "metadata": {},
   "outputs": [],
   "source": [
    "train_loader = train_2_loader\n",
    "val_loader = test_2_loader"
   ]
  },
  {
   "cell_type": "code",
   "execution_count": 27,
   "metadata": {},
   "outputs": [],
   "source": [
    "filename = 'models/unet_12-01_15-41.pt'\n",
    "early_stopping = EarlyStopping(patience = 20, verbose = False, path = filename)"
   ]
  },
  {
   "cell_type": "code",
   "execution_count": 28,
   "metadata": {},
   "outputs": [
    {
     "data": {
      "text/plain": [
       "<All keys matched successfully>"
      ]
     },
     "execution_count": 28,
     "metadata": {},
     "output_type": "execute_result"
    }
   ],
   "source": [
    "model.load_state_dict(torch.load(f'{filename}'))"
   ]
  },
  {
   "cell_type": "code",
   "execution_count": null,
   "metadata": {},
   "outputs": [
    {
     "name": "stdout",
     "output_type": "stream",
     "text": [
      "Epoch 0 train_loss: 0.06642   val_loss: 0.05514\n",
      "Epoch 1 train_loss: 0.06631   val_loss: 0.05412\n",
      "Epoch 2 train_loss: 0.06525   val_loss: 0.05400\n",
      "EarlyStopping counter: 1 out of 20\n",
      "Epoch 3 train_loss: 0.06496   val_loss: 0.05402\n",
      "Epoch 4 train_loss: 0.06476   val_loss: 0.05365\n",
      "Epoch 5 train_loss: 0.06543   val_loss: 0.05338\n",
      "EarlyStopping counter: 1 out of 20\n",
      "Epoch 6 train_loss: 0.06453   val_loss: 0.05350\n",
      "Epoch 7 train_loss: 0.06429   val_loss: 0.05331\n",
      "EarlyStopping counter: 1 out of 20\n",
      "Epoch 8 train_loss: 0.06460   val_loss: 0.05350\n",
      "EarlyStopping counter: 2 out of 20\n",
      "Epoch 9 train_loss: 0.06437   val_loss: 0.05336\n",
      "Epoch 10 train_loss: 0.06396   val_loss: 0.05326\n",
      "Epoch 11 train_loss: 0.06372   val_loss: 0.05311\n",
      "Epoch 12 train_loss: 0.06307   val_loss: 0.05307\n",
      "Epoch 13 train_loss: 0.06331   val_loss: 0.05298\n",
      "Epoch 14 train_loss: 0.06292   val_loss: 0.05278\n",
      "Epoch 15 train_loss: 0.06352   val_loss: 0.05266\n",
      "Epoch 16 train_loss: 0.06328   val_loss: 0.05258\n",
      "EarlyStopping counter: 1 out of 20\n",
      "Epoch 17 train_loss: 0.06286   val_loss: 0.05259\n",
      "Epoch 18 train_loss: 0.06287   val_loss: 0.05244\n",
      "Epoch 19 train_loss: 0.06243   val_loss: 0.05235\n",
      "EarlyStopping counter: 1 out of 20\n",
      "Epoch 20 train_loss: 0.06240   val_loss: 0.05294\n"
     ]
    }
   ],
   "source": [
    "for epoch in range(num_epochs):\n",
    "    model.train()\n",
    "    \n",
    "    train_losses = []\n",
    "    for it_1, (img, mask) in enumerate(train_loader):\n",
    "        #print(train_img)\n",
    "        img = img.to(device)\n",
    "        mask = mask.to(device).float()\n",
    "        #print(train_label)\n",
    "        if mode == 'base':\n",
    "            y_pred = model(img)\n",
    "            loss = criterion(y_pred, mask)\n",
    "            train_losses.append(loss.item())\n",
    "            optimizer.zero_grad()\n",
    "            loss.backward()\n",
    "            optimizer.step()\n",
    "\n",
    "        elif mode == 'caranet':\n",
    "            train_lrmap_5,train_lrmap_3,train_lrmap_2,train_lrmap_1 = model(img)\n",
    "            train_loss5 = structure_loss(train_lrmap_5, mask)\n",
    "            train_loss3 = structure_loss(train_lrmap_3, mask)\n",
    "            train_loss2 = structure_loss(train_lrmap_2, mask)\n",
    "            train_loss1 = structure_loss(train_lrmap_1, mask)\n",
    "        \n",
    "            loss = train_loss5 + train_loss3 + train_loss2 + train_loss1\n",
    "        \n",
    "            train_losses.append(loss.item())\n",
    "            \n",
    "            optimizer.zero_grad()\n",
    "            loss.backward()\n",
    "            clip_gradient(optimizer, 0.5)\n",
    "            optimizer.step()\n",
    "    \n",
    "    train_loss = np.average(train_losses)\n",
    "\n",
    "    loss_dict['train'].append(train_loss)\n",
    "\n",
    "    model.eval()\n",
    "    with torch.no_grad():\n",
    "        valid_losses = []\n",
    "        for it_2, (img, mask) in enumerate(val_loader):\n",
    "            img = img.to(device)\n",
    "            mask = mask.to(device).float()\n",
    "            #print(train_label)\n",
    "            if mode == 'base':\n",
    "                y_pred = model(img)\n",
    "                loss = criterion(y_pred, mask)\n",
    "                valid_losses.append(loss.item())\n",
    "\n",
    "            elif mode == 'caranet':\n",
    "                lrmap_5, lrmap_3, lrmap_2, lrmap_1 = model(img)\n",
    "                loss5 = structure_loss(lrmap_5, mask)\n",
    "                loss3 = structure_loss(lrmap_3, mask)\n",
    "                loss2 = structure_loss(lrmap_2, mask)\n",
    "                loss1 = structure_loss(lrmap_1, mask)\n",
    "            \n",
    "                loss = loss5 + loss3 + loss2 + loss1\n",
    "                valid_losses.append(loss.item())\n",
    "        \n",
    "        valid_loss = np.average(valid_losses)\n",
    "        scheduler.step(valid_loss)\n",
    "        \n",
    "        early_stopping(valid_loss, model)\n",
    "        if early_stopping.early_stop:\n",
    "            print(\"Early stopping\")\n",
    "            break\n",
    "#            scheduler.step(float(val_loss))\n",
    "        loss_dict['val'].append(valid_loss)\n",
    "            \n",
    "    print(f'Epoch {epoch} train_loss: {train_loss:0.5f}   val_loss: {valid_loss:0.5f}')"
   ]
  },
  {
   "cell_type": "markdown",
   "metadata": {},
   "source": [
    "# Evaluate"
   ]
  },
  {
   "cell_type": "code",
   "execution_count": 12,
   "metadata": {},
   "outputs": [
    {
     "data": {
      "text/plain": [
       "<All keys matched successfully>"
      ]
     },
     "execution_count": 12,
     "metadata": {},
     "output_type": "execute_result"
    }
   ],
   "source": [
    "# load best model\n",
    "model.load_state_dict(torch.load(f'{filename}'))"
   ]
  },
  {
   "cell_type": "code",
   "execution_count": 13,
   "metadata": {},
   "outputs": [],
   "source": [
    "from utils import *"
   ]
  },
  {
   "cell_type": "code",
   "execution_count": 14,
   "metadata": {},
   "outputs": [],
   "source": [
    "x,y = next(iter(test_2_4_loader))"
   ]
  },
  {
   "cell_type": "code",
   "execution_count": 15,
   "metadata": {},
   "outputs": [
    {
     "data": {
      "text/plain": [
       "(torch.Size([16, 3, 400, 400]), torch.Size([16, 1, 400, 400]))"
      ]
     },
     "execution_count": 15,
     "metadata": {},
     "output_type": "execute_result"
    }
   ],
   "source": [
    "x.shape, y.shape"
   ]
  },
  {
   "cell_type": "code",
   "execution_count": 16,
   "metadata": {},
   "outputs": [
    {
     "name": "stdout",
     "output_type": "stream",
     "text": [
      "Dice Similarity:    0.9488 \n",
      "Jaccard Similarity: 0.9047\n"
     ]
    },
    {
     "data": {
      "text/plain": [
       "(0.9488382706760882, 0.9046990612617313)"
      ]
     },
     "execution_count": 16,
     "metadata": {},
     "output_type": "execute_result"
    }
   ],
   "source": [
    "evaluate(model, test_2_4_loader, mode)"
   ]
  },
  {
   "cell_type": "code",
   "execution_count": 17,
   "metadata": {},
   "outputs": [
    {
     "name": "stdout",
     "output_type": "stream",
     "text": [
      "Dice Similarity:    0.9396 \n",
      "Jaccard Similarity: 0.8888\n"
     ]
    },
    {
     "data": {
      "text/plain": [
       "(0.9395881880382325, 0.8888093268756143)"
      ]
     },
     "execution_count": 17,
     "metadata": {},
     "output_type": "execute_result"
    }
   ],
   "source": [
    "evaluate(model, test_2_loader, mode)"
   ]
  },
  {
   "cell_type": "code",
   "execution_count": 18,
   "metadata": {},
   "outputs": [
    {
     "name": "stdout",
     "output_type": "stream",
     "text": [
      "Dice Similarity:    0.9581 \n",
      "Jaccard Similarity: 0.9206\n"
     ]
    },
    {
     "data": {
      "text/plain": [
       "(0.9580883533139442, 0.9205887956478481)"
      ]
     },
     "execution_count": 18,
     "metadata": {},
     "output_type": "execute_result"
    }
   ],
   "source": [
    "evaluate(model, test_4_loader, mode)"
   ]
  },
  {
   "cell_type": "code",
   "execution_count": null,
   "metadata": {},
   "outputs": [],
   "source": []
  }
 ],
 "metadata": {
  "interpreter": {
   "hash": "67279a16936c44c66ab678de41f1260360b345454ec17353bfa5d06d9ac761b8"
  },
  "kernelspec": {
   "display_name": "Python 3 (ipykernel)",
   "language": "python",
   "name": "python3"
  },
  "language_info": {
   "codemirror_mode": {
    "name": "ipython",
    "version": 3
   },
   "file_extension": ".py",
   "mimetype": "text/x-python",
   "name": "python",
   "nbconvert_exporter": "python",
   "pygments_lexer": "ipython3",
   "version": "3.8.0"
  }
 },
 "nbformat": 4,
 "nbformat_minor": 2
}
