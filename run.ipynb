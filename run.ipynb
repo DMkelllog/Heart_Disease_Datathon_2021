{
 "cells": [
  {
   "cell_type": "markdown",
   "metadata": {},
   "source": [
    "# Import Library"
   ]
  },
  {
   "cell_type": "code",
   "execution_count": 1,
   "metadata": {},
   "outputs": [],
   "source": [
    "%load_ext autoreload\n",
    "%autoreload 2\n",
    "\n",
    "\n",
    "import numpy as np\n",
    "import torch.nn.functional as F\n",
    "import matplotlib.pyplot as plt\n",
    "import datetime\n",
    "\n",
    "import torch\n",
    "from torch.utils.data import DataLoader\n",
    "\n",
    "from sklearn.model_selection import ShuffleSplit\n",
    "from torch.utils.data import Subset\n",
    "\n",
    "from torch.optim import Adam\n",
    "from torch.optim.lr_scheduler import ReduceLROnPlateau\n",
    "from sklearn.model_selection import train_test_split\n",
    "from torch import optim\n",
    "import numpy as np\n",
    "import pickle\n",
    "from tqdm import tqdm\n",
    "\n",
    "import albumentations as A\n",
    "from albumentations.pytorch import ToTensorV2\n",
    "\n",
    "from utils import *\n",
    "\n",
    "from models import caranet\n",
    "from unet import pretrained_unet\n",
    "\n",
    "from metrics import get_DC, get_JS, DiceLoss\n",
    "\n"
   ]
  },
  {
   "cell_type": "code",
   "execution_count": 2,
   "metadata": {},
   "outputs": [],
   "source": [
    "##### Hyperparameter Settings ####\n",
    "device = 'cuda' if torch.cuda.is_available() else 'cpu'\n",
    "leraning_rate = 0.001\n",
    "weight_decay = 1e-6\n",
    "batch_size = 16\n",
    "num_epochs = 1000\n",
    "early_stopping_patience = 10\n",
    "random_seed = 42\n",
    "date_time = datetime.datetime.now().strftime(\"%m-%d_%H-%M\")\n",
    "# model_name = 'caranet' # 'unet'\n",
    "model_name = 'unet'\n",
    "filename = f'models/{model_name}_{date_time}.pt'\n",
    "\n",
    "mode = 'base' # base | caranet \n",
    "# mode = 'caranet' # base | caranet \n",
    "#################################"
   ]
  },
  {
   "cell_type": "markdown",
   "metadata": {},
   "source": [
    "# Dataloader"
   ]
  },
  {
   "cell_type": "code",
   "execution_count": 3,
   "metadata": {},
   "outputs": [],
   "source": [
    "transform = A.Compose([\n",
    "    A.HorizontalFlip(),\n",
    "    ToTensorV2(transpose_mask=True)\n",
    "])\n",
    "\n"
   ]
  },
  {
   "cell_type": "code",
   "execution_count": 4,
   "metadata": {},
   "outputs": [
    {
     "name": "stdout",
     "output_type": "stream",
     "text": [
      "train image shape: (1600, 400, 400, 3) \n",
      "train mask shape: (1600, 400, 400, 1)\n",
      "test image shape: (200, 400, 400, 3) \n",
      "test mask shape: (200, 400, 400, 1)\n"
     ]
    }
   ],
   "source": [
    "_2_4_loader, _2_loader, _4_loader = create_loader(transform, random_seed, batch_size, mode)\n",
    "\n",
    "train_2_4_loader, val_2_4_loader, test_2_4_loader = _2_4_loader\n",
    "train_2_loader, val_2_loader, test_2_loader = _2_loader\n",
    "train_4_loader, val_4_loader, test_4_loader = _4_loader\n"
   ]
  },
  {
   "cell_type": "markdown",
   "metadata": {},
   "source": [
    "# Training"
   ]
  },
  {
   "cell_type": "code",
   "execution_count": 5,
   "metadata": {},
   "outputs": [
    {
     "name": "stderr",
     "output_type": "stream",
     "text": [
      "Downloading: \"https://github.com/mateuszbuda/brain-segmentation-pytorch/releases/download/v1.0/unet-e012d006.pt\" to /home/kang/.cache/torch/hub/checkpoints/unet-e012d006.pt\n"
     ]
    }
   ],
   "source": [
    "# model = caranet().to(device)\n",
    "model = pretrained_unet(True).to(device)\n",
    "optimizer = Adam(model.parameters(), lr=leraning_rate, weight_decay=weight_decay)\n",
    "scheduler = ReduceLROnPlateau(optimizer, mode='min', factor=0.1, patience=20, min_lr=leraning_rate/1000, verbose=True)\n",
    "criterion = DiceLoss()\n",
    "\n",
    "early_stopping = EarlyStopping(patience = 20, verbose = True, path = filename)\n",
    "loss_dict = {'train': [], 'val': []}"
   ]
  },
  {
   "cell_type": "code",
   "execution_count": 6,
   "metadata": {},
   "outputs": [],
   "source": [
    "train_loader = train_2_4_loader\n",
    "val_loader = val_2_4_loader"
   ]
  },
  {
   "cell_type": "code",
   "execution_count": 9,
   "metadata": {},
   "outputs": [
    {
     "name": "stderr",
     "output_type": "stream",
     "text": [
      "100%|██████████| 88/88 [00:19<00:00,  4.44it/s]\n"
     ]
    },
    {
     "name": "stdout",
     "output_type": "stream",
     "text": [
      "Validation loss decreased (inf --> 0.156516).  Saving model ...\n",
      "train_loss: 0.10209789059378883 val_loss: 0.15651596967990583\n"
     ]
    },
    {
     "name": "stderr",
     "output_type": "stream",
     "text": [
      "100%|██████████| 88/88 [00:19<00:00,  4.41it/s]\n"
     ]
    },
    {
     "name": "stdout",
     "output_type": "stream",
     "text": [
      "Validation loss decreased (0.156516 --> 0.156196).  Saving model ...\n",
      "train_loss: 0.09034808047793129 val_loss: 0.15619559929921076\n"
     ]
    },
    {
     "name": "stderr",
     "output_type": "stream",
     "text": [
      "100%|██████████| 88/88 [00:20<00:00,  4.38it/s]\n"
     ]
    },
    {
     "name": "stdout",
     "output_type": "stream",
     "text": [
      "Validation loss decreased (0.156196 --> 0.095465).  Saving model ...\n",
      "train_loss: 0.0871887511827729 val_loss: 0.09546504570887639\n"
     ]
    },
    {
     "name": "stderr",
     "output_type": "stream",
     "text": [
      "100%|██████████| 88/88 [00:20<00:00,  4.36it/s]\n"
     ]
    },
    {
     "name": "stdout",
     "output_type": "stream",
     "text": [
      "EarlyStopping counter: 1 out of 20\n",
      "train_loss: 0.08117315444079312 val_loss: 0.10694830692731418\n"
     ]
    },
    {
     "name": "stderr",
     "output_type": "stream",
     "text": [
      "100%|██████████| 88/88 [00:20<00:00,  4.35it/s]\n"
     ]
    },
    {
     "name": "stdout",
     "output_type": "stream",
     "text": [
      "EarlyStopping counter: 2 out of 20\n",
      "train_loss: 0.07712138850580562 val_loss: 0.1141365308028001\n"
     ]
    },
    {
     "name": "stderr",
     "output_type": "stream",
     "text": [
      "100%|██████████| 88/88 [00:20<00:00,  4.34it/s]\n"
     ]
    },
    {
     "name": "stdout",
     "output_type": "stream",
     "text": [
      "Validation loss decreased (0.095465 --> 0.089737).  Saving model ...\n",
      "train_loss: 0.07607273012399673 val_loss: 0.08973680092738225\n"
     ]
    },
    {
     "name": "stderr",
     "output_type": "stream",
     "text": [
      "100%|██████████| 88/88 [00:20<00:00,  4.34it/s]\n"
     ]
    },
    {
     "name": "stdout",
     "output_type": "stream",
     "text": [
      "Validation loss decreased (0.089737 --> 0.083466).  Saving model ...\n",
      "train_loss: 0.07237258959900249 val_loss: 0.0834656862112192\n"
     ]
    },
    {
     "name": "stderr",
     "output_type": "stream",
     "text": [
      "100%|██████████| 88/88 [00:20<00:00,  4.33it/s]\n"
     ]
    },
    {
     "name": "stdout",
     "output_type": "stream",
     "text": [
      "EarlyStopping counter: 1 out of 20\n",
      "train_loss: 0.07064845345237038 val_loss: 0.08862636181024405\n"
     ]
    },
    {
     "name": "stderr",
     "output_type": "stream",
     "text": [
      "100%|██████████| 88/88 [00:20<00:00,  4.33it/s]\n"
     ]
    },
    {
     "name": "stdout",
     "output_type": "stream",
     "text": [
      "EarlyStopping counter: 2 out of 20\n",
      "train_loss: 0.06594702127304944 val_loss: 0.11146635275620681\n"
     ]
    },
    {
     "name": "stderr",
     "output_type": "stream",
     "text": [
      "100%|██████████| 88/88 [00:20<00:00,  4.32it/s]\n"
     ]
    },
    {
     "name": "stdout",
     "output_type": "stream",
     "text": [
      "EarlyStopping counter: 3 out of 20\n",
      "train_loss: 0.07163622027093713 val_loss: 0.08799645075431237\n"
     ]
    },
    {
     "name": "stderr",
     "output_type": "stream",
     "text": [
      "100%|██████████| 88/88 [00:20<00:00,  4.31it/s]\n"
     ]
    },
    {
     "name": "stdout",
     "output_type": "stream",
     "text": [
      "EarlyStopping counter: 4 out of 20\n",
      "train_loss: 0.06668705967339603 val_loss: 0.09421787353662345\n"
     ]
    },
    {
     "name": "stderr",
     "output_type": "stream",
     "text": [
      "100%|██████████| 88/88 [00:20<00:00,  4.32it/s]\n"
     ]
    },
    {
     "name": "stdout",
     "output_type": "stream",
     "text": [
      "Validation loss decreased (0.083466 --> 0.074835).  Saving model ...\n",
      "train_loss: 0.06430418992584402 val_loss: 0.07483511704664964\n"
     ]
    },
    {
     "name": "stderr",
     "output_type": "stream",
     "text": [
      "100%|██████████| 88/88 [00:20<00:00,  4.32it/s]\n"
     ]
    },
    {
     "name": "stdout",
     "output_type": "stream",
     "text": [
      "EarlyStopping counter: 1 out of 20\n",
      "train_loss: 0.06243199448693882 val_loss: 0.07642429150067843\n"
     ]
    },
    {
     "name": "stderr",
     "output_type": "stream",
     "text": [
      " 23%|██▎       | 20/88 [00:04<00:16,  4.14it/s]\n"
     ]
    },
    {
     "ename": "KeyboardInterrupt",
     "evalue": "",
     "output_type": "error",
     "traceback": [
      "\u001b[0;31m---------------------------------------------------------------------------\u001b[0m",
      "\u001b[0;31mKeyboardInterrupt\u001b[0m                         Traceback (most recent call last)",
      "\u001b[0;32m/tmp/ipykernel_18878/2527663736.py\u001b[0m in \u001b[0;36m<module>\u001b[0;34m\u001b[0m\n\u001b[1;32m      5\u001b[0m     \u001b[0;32mfor\u001b[0m \u001b[0mit_1\u001b[0m\u001b[0;34m,\u001b[0m \u001b[0;34m(\u001b[0m\u001b[0mimg\u001b[0m\u001b[0;34m,\u001b[0m \u001b[0mmask\u001b[0m\u001b[0;34m)\u001b[0m \u001b[0;32min\u001b[0m \u001b[0menumerate\u001b[0m\u001b[0;34m(\u001b[0m\u001b[0mtqdm\u001b[0m\u001b[0;34m(\u001b[0m\u001b[0mtrain_loader\u001b[0m\u001b[0;34m)\u001b[0m\u001b[0;34m)\u001b[0m\u001b[0;34m:\u001b[0m\u001b[0;34m\u001b[0m\u001b[0;34m\u001b[0m\u001b[0m\n\u001b[1;32m      6\u001b[0m         \u001b[0;31m#print(train_img)\u001b[0m\u001b[0;34m\u001b[0m\u001b[0;34m\u001b[0m\u001b[0;34m\u001b[0m\u001b[0m\n\u001b[0;32m----> 7\u001b[0;31m         \u001b[0mimg\u001b[0m \u001b[0;34m=\u001b[0m \u001b[0mimg\u001b[0m\u001b[0;34m.\u001b[0m\u001b[0mto\u001b[0m\u001b[0;34m(\u001b[0m\u001b[0mdevice\u001b[0m\u001b[0;34m)\u001b[0m\u001b[0;34m\u001b[0m\u001b[0;34m\u001b[0m\u001b[0m\n\u001b[0m\u001b[1;32m      8\u001b[0m         \u001b[0mmask\u001b[0m \u001b[0;34m=\u001b[0m \u001b[0mmask\u001b[0m\u001b[0;34m.\u001b[0m\u001b[0mto\u001b[0m\u001b[0;34m(\u001b[0m\u001b[0mdevice\u001b[0m\u001b[0;34m)\u001b[0m\u001b[0;34m.\u001b[0m\u001b[0mfloat\u001b[0m\u001b[0;34m(\u001b[0m\u001b[0;34m)\u001b[0m\u001b[0;34m\u001b[0m\u001b[0;34m\u001b[0m\u001b[0m\n\u001b[1;32m      9\u001b[0m         \u001b[0;31m#print(train_label)\u001b[0m\u001b[0;34m\u001b[0m\u001b[0;34m\u001b[0m\u001b[0;34m\u001b[0m\u001b[0m\n",
      "\u001b[0;31mKeyboardInterrupt\u001b[0m: "
     ]
    },
    {
     "name": "stderr",
     "output_type": "stream",
     "text": [
      "Traceback (most recent call last):\n",
      "  File \"/home/kang/anaconda3/envs/torch/lib/python3.7/multiprocessing/queues.py\", line 242, in _feed\n",
      "    send_bytes(obj)\n",
      "  File \"/home/kang/anaconda3/envs/torch/lib/python3.7/multiprocessing/connection.py\", line 200, in send_bytes\n",
      "    self._send_bytes(m[offset:offset + size])\n",
      "  File \"/home/kang/anaconda3/envs/torch/lib/python3.7/multiprocessing/connection.py\", line 404, in _send_bytes\n",
      "    self._send(header + buf)\n",
      "  File \"/home/kang/anaconda3/envs/torch/lib/python3.7/multiprocessing/connection.py\", line 368, in _send\n",
      "    n = write(self._handle, buf)\n",
      "BrokenPipeError: [Errno 32] Broken pipe\n",
      "Traceback (most recent call last):\n",
      "  File \"/home/kang/anaconda3/envs/torch/lib/python3.7/multiprocessing/queues.py\", line 242, in _feed\n",
      "    send_bytes(obj)\n",
      "  File \"/home/kang/anaconda3/envs/torch/lib/python3.7/multiprocessing/connection.py\", line 200, in send_bytes\n",
      "    self._send_bytes(m[offset:offset + size])\n",
      "  File \"/home/kang/anaconda3/envs/torch/lib/python3.7/multiprocessing/connection.py\", line 404, in _send_bytes\n",
      "    self._send(header + buf)\n",
      "  File \"/home/kang/anaconda3/envs/torch/lib/python3.7/multiprocessing/connection.py\", line 368, in _send\n",
      "    n = write(self._handle, buf)\n",
      "BrokenPipeError: [Errno 32] Broken pipe\n"
     ]
    }
   ],
   "source": [
    "for epoch in range(num_epochs):\n",
    "    model.train()\n",
    "    \n",
    "    train_losses = []\n",
    "    for it_1, (img, mask) in enumerate(tqdm(train_loader)):\n",
    "        #print(train_img)\n",
    "        img = img.to(device)\n",
    "        mask = mask.to(device).float()\n",
    "        #print(train_label)\n",
    "        if mode == 'base':\n",
    "            y_pred = model(img)\n",
    "            loss = criterion(y_pred, mask)\n",
    "            train_losses.append(loss.item())\n",
    "            optimizer.zero_grad()\n",
    "            loss.backward()\n",
    "            optimizer.step()\n",
    "\n",
    "        elif mode == 'caranet':\n",
    "            train_lrmap_5,train_lrmap_3,train_lrmap_2,train_lrmap_1 = model(img)\n",
    "            train_loss5 = structure_loss(train_lrmap_5, mask)\n",
    "            train_loss3 = structure_loss(train_lrmap_3, mask)\n",
    "            train_loss2 = structure_loss(train_lrmap_2, mask)\n",
    "            train_loss1 = structure_loss(train_lrmap_1, mask)\n",
    "        \n",
    "            loss = train_loss5 + train_loss3 + train_loss2 + train_loss1\n",
    "        \n",
    "            train_losses.append(loss.item())\n",
    "            \n",
    "            optimizer.zero_grad()\n",
    "            loss.backward()\n",
    "            clip_gradient(optimizer, 0.5)\n",
    "            optimizer.step()\n",
    "    \n",
    "    train_loss = np.average(train_losses)\n",
    "\n",
    "    loss_dict['train'].append(train_loss)\n",
    "\n",
    "    model.eval()\n",
    "    with torch.no_grad():\n",
    "        valid_losses = []\n",
    "        for it_2, (img, mask) in enumerate(val_loader):\n",
    "            img = img.to(device)\n",
    "            mask = mask.to(device).float()\n",
    "            #print(train_label)\n",
    "            if mode == 'base':\n",
    "                y_pred = model(img)\n",
    "                loss = criterion(y_pred, mask)\n",
    "                valid_losses.append(loss.item())\n",
    "\n",
    "            elif mode == 'caranet':\n",
    "                lrmap_5, lrmap_3, lrmap_2, lrmap_1 = model(img)\n",
    "                loss5 = structure_loss(lrmap_5, mask)\n",
    "                loss3 = structure_loss(lrmap_3, mask)\n",
    "                loss2 = structure_loss(lrmap_2, mask)\n",
    "                loss1 = structure_loss(lrmap_1, mask)\n",
    "            \n",
    "                loss = loss5 + loss3 + loss2 + loss1\n",
    "                valid_losses.append(loss.item())\n",
    "        \n",
    "        valid_loss = np.average(valid_losses)\n",
    "        scheduler.step(valid_loss)\n",
    "        \n",
    "        early_stopping(valid_loss, model)\n",
    "        if early_stopping.early_stop:\n",
    "            print(\"Early stopping\")\n",
    "            break\n",
    "#            scheduler.step(float(val_loss))\n",
    "        loss_dict['val'].append(valid_loss)\n",
    "            \n",
    "    print(f'train_loss: {train_loss:0.5f}   val_loss: {valid_loss:0.5f}')"
   ]
  },
  {
   "cell_type": "markdown",
   "metadata": {},
   "source": [
    "# Finetuning"
   ]
  },
  {
   "cell_type": "code",
   "execution_count": null,
   "metadata": {},
   "outputs": [],
   "source": []
  },
  {
   "cell_type": "markdown",
   "metadata": {},
   "source": [
    "# Evaluate"
   ]
  },
  {
   "cell_type": "code",
   "execution_count": null,
   "metadata": {},
   "outputs": [],
   "source": [
    "# load best model\n",
    "model.load_state_dict(torch.load(f'{filename}.pt'))"
   ]
  }
 ],
 "metadata": {
  "interpreter": {
   "hash": "67279a16936c44c66ab678de41f1260360b345454ec17353bfa5d06d9ac761b8"
  },
  "kernelspec": {
   "display_name": "Python 3.7.11 64-bit ('torch': conda)",
   "language": "python",
   "name": "python3"
  },
  "language_info": {
   "codemirror_mode": {
    "name": "ipython",
    "version": 3
   },
   "file_extension": ".py",
   "mimetype": "text/x-python",
   "name": "python",
   "nbconvert_exporter": "python",
   "pygments_lexer": "ipython3",
   "version": "3.7.11"
  },
  "orig_nbformat": 4
 },
 "nbformat": 4,
 "nbformat_minor": 2
}
