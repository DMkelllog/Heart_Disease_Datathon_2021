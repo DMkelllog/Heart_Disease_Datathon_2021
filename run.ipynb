{
 "cells": [
  {
   "cell_type": "markdown",
   "metadata": {},
   "source": [
    "# Import Library"
   ]
  },
  {
   "cell_type": "code",
   "execution_count": 1,
   "metadata": {},
   "outputs": [],
   "source": [
    "%load_ext autoreload\n",
    "%autoreload 2\n",
    "\n",
    "\n",
    "import numpy as np\n",
    "import matplotlib.pyplot as plt\n",
    "import datetime\n",
    "\n",
    "import torch\n",
    "\n",
    "from torch.optim import Adam\n",
    "from torch.optim.lr_scheduler import ReduceLROnPlateau\n",
    "from torch import optim\n",
    "import numpy as np\n",
    "import pickle\n",
    "from tqdm import tqdm\n",
    "\n",
    "import albumentations as A\n",
    "from albumentations.pytorch import ToTensorV2\n",
    "\n",
    "from utils import *\n",
    "\n",
    "from models import caranet\n",
    "from unet import pretrained_unet\n",
    "\n",
    "from metrics import DiceLoss\n",
    "\n"
   ]
  },
  {
   "cell_type": "code",
   "execution_count": 2,
   "metadata": {},
   "outputs": [],
   "source": [
    "##### Hyperparameter Settings ####\n",
    "device = 'cuda' if torch.cuda.is_available() else 'cpu'\n",
    "learning_rate = 1e-4\n",
    "weight_decay = 1e-10\n",
    "batch_size = 16\n",
    "num_epochs = 1000\n",
    "early_stopping_patience = 10\n",
    "random_seed = 42\n",
    "date_time = datetime.datetime.now().strftime(\"%m-%d_%H-%M\")\n",
    "\n",
    "# model_type = 'caranet'\n",
    "model_type = 'unet'\n",
    "\n",
    "filename = f'models/{model_type}_{date_time}.pt'\n",
    "\n",
    "if model_type == 'unet':\n",
    "    mode = 'base'\n",
    "elif model_type == 'caranet':\n",
    "    mode = 'caranet'\n",
    "#################################"
   ]
  },
  {
   "cell_type": "markdown",
   "metadata": {},
   "source": [
    "# Dataloader"
   ]
  },
  {
   "cell_type": "code",
   "execution_count": 6,
   "metadata": {},
   "outputs": [],
   "source": [
    "transform = A.Compose([\n",
    "    A.HorizontalFlip(),\n",
    "    ToTensorV2(transpose_mask=True)\n",
    "])\n",
    "import albumentations as A\n",
    "from albumentations.pytorch import ToTensorV2\n",
    "def get_training_augmentation():\n",
    "    train_transform = [\n",
    "\n",
    "        A.ShiftScaleRotate(scale_limit=0, rotate_limit=0.1, shift_limit=0.1, p=1, border_mode=0),\n",
    "\n",
    "        A.OneOf(\n",
    "            [\n",
    "                A.CLAHE(p=1),\n",
    "                A.RandomBrightness(p=1),\n",
    "                A.RandomContrast(p=1),\n",
    "            ],\n",
    "            p=0.9,\n",
    "        ),\n",
    "\n",
    "        ToTensorV2(transpose_mask=True)\n",
    "    ]\n",
    "    return A.Compose(train_transform)\n",
    "\n"
   ]
  },
  {
   "cell_type": "code",
   "execution_count": 7,
   "metadata": {},
   "outputs": [
    {
     "name": "stdout",
     "output_type": "stream",
     "text": [
      "train image shape: (1600, 400, 400, 3) \n",
      "train mask shape: (1600, 400, 400, 1)\n",
      "test image shape: (200, 400, 400, 3) \n",
      "test mask shape: (200, 400, 400, 1)\n"
     ]
    }
   ],
   "source": [
    "_2_4_loader, _2_loader, _4_loader = make_dataloader(get_training_augmentation(), random_seed, batch_size, mode)\n",
    "\n",
    "train_2_4_loader, test_2_4_loader = _2_4_loader\n",
    "train_2_loader, test_2_loader = _2_loader\n",
    "train_4_loader, test_4_loader = _4_loader\n"
   ]
  },
  {
   "cell_type": "markdown",
   "metadata": {},
   "source": [
    "# Pre-Training"
   ]
  },
  {
   "cell_type": "code",
   "execution_count": 8,
   "metadata": {},
   "outputs": [],
   "source": [
    "if model_type == 'unet':\n",
    "    model = pretrained_unet(True).to(device)\n",
    "elif model_type == 'caranet':\n",
    "    model = caranet().to(device)\n",
    "optimizer = Adam(model.parameters(), lr=learning_rate, weight_decay=weight_decay)\n",
    "scheduler = ReduceLROnPlateau(optimizer, mode='min', factor=0.1, patience=3, min_lr=learning_rate/1000, verbose=False)\n",
    "criterion = DiceLoss()\n",
    "\n",
    "early_stopping = EarlyStopping(patience = 10, verbose = False, path = filename)\n",
    "loss_dict = {'train': [], 'val': []}"
   ]
  },
  {
   "cell_type": "code",
   "execution_count": 10,
   "metadata": {},
   "outputs": [],
   "source": [
    "train_loader = train_2_4_loader\n",
    "val_loader = test_2_4_loader"
   ]
  },
  {
   "cell_type": "code",
   "execution_count": 13,
   "metadata": {
    "scrolled": false
   },
   "outputs": [
    {
     "name": "stdout",
     "output_type": "stream",
     "text": [
      "Epoch 0 train_loss: 0.27685   val_loss: 0.11594\n",
      "Epoch 1 train_loss: 0.11292   val_loss: 0.10284\n",
      "Epoch 2 train_loss: 0.09432   val_loss: 0.07520\n",
      "EarlyStopping counter: 1 out of 10\n",
      "Epoch 3 train_loss: 0.08663   val_loss: 0.09246\n",
      "EarlyStopping counter: 2 out of 10\n",
      "Epoch 4 train_loss: 0.08122   val_loss: 0.07878\n",
      "Epoch 5 train_loss: 0.07445   val_loss: 0.06550\n",
      "EarlyStopping counter: 1 out of 10\n",
      "Epoch 6 train_loss: 0.07002   val_loss: 0.06953\n",
      "Epoch 7 train_loss: 0.06863   val_loss: 0.05963\n",
      "Epoch 8 train_loss: 0.06658   val_loss: 0.05564\n",
      "EarlyStopping counter: 1 out of 10\n",
      "Epoch 9 train_loss: 0.06362   val_loss: 0.06291\n",
      "Epoch 10 train_loss: 0.06257   val_loss: 0.05176\n",
      "EarlyStopping counter: 1 out of 10\n",
      "Epoch 11 train_loss: 0.06077   val_loss: 0.05313\n",
      "Epoch 12 train_loss: 0.05916   val_loss: 0.05102\n",
      "EarlyStopping counter: 1 out of 10\n",
      "Epoch 13 train_loss: 0.05670   val_loss: 0.05169\n",
      "EarlyStopping counter: 2 out of 10\n",
      "Epoch 14 train_loss: 0.05619   val_loss: 0.05421\n",
      "Epoch 15 train_loss: 0.05582   val_loss: 0.05035\n",
      "EarlyStopping counter: 1 out of 10\n",
      "Epoch 16 train_loss: 0.05742   val_loss: 0.05265\n",
      "EarlyStopping counter: 2 out of 10\n",
      "Epoch 17 train_loss: 0.05330   val_loss: 0.05442\n",
      "EarlyStopping counter: 3 out of 10\n",
      "Epoch 18 train_loss: 0.05379   val_loss: 0.05100\n",
      "EarlyStopping counter: 4 out of 10\n",
      "Epoch 19 train_loss: 0.05155   val_loss: 0.05072\n",
      "Epoch 20 train_loss: 0.04796   val_loss: 0.04634\n",
      "Epoch 21 train_loss: 0.04696   val_loss: 0.04596\n",
      "EarlyStopping counter: 1 out of 10\n",
      "Epoch 22 train_loss: 0.04622   val_loss: 0.04627\n",
      "Epoch 23 train_loss: 0.04582   val_loss: 0.04570\n",
      "EarlyStopping counter: 1 out of 10\n",
      "Epoch 24 train_loss: 0.04589   val_loss: 0.04579\n",
      "Epoch 25 train_loss: 0.04588   val_loss: 0.04563\n",
      "EarlyStopping counter: 1 out of 10\n",
      "Epoch 26 train_loss: 0.04612   val_loss: 0.04565\n",
      "EarlyStopping counter: 2 out of 10\n",
      "Epoch 27 train_loss: 0.04544   val_loss: 0.04611\n",
      "EarlyStopping counter: 3 out of 10\n",
      "Epoch 28 train_loss: 0.04559   val_loss: 0.04592\n",
      "EarlyStopping counter: 4 out of 10\n",
      "Epoch 29 train_loss: 0.04474   val_loss: 0.04578\n",
      "Epoch 30 train_loss: 0.04414   val_loss: 0.04557\n",
      "Epoch 31 train_loss: 0.04379   val_loss: 0.04551\n",
      "Epoch 32 train_loss: 0.04400   val_loss: 0.04531\n",
      "EarlyStopping counter: 1 out of 10\n",
      "Epoch 33 train_loss: 0.04401   val_loss: 0.04554\n",
      "EarlyStopping counter: 2 out of 10\n",
      "Epoch 34 train_loss: 0.04380   val_loss: 0.04539\n",
      "EarlyStopping counter: 3 out of 10\n",
      "Epoch 35 train_loss: 0.04460   val_loss: 0.04539\n",
      "EarlyStopping counter: 4 out of 10\n",
      "Epoch 36 train_loss: 0.04405   val_loss: 0.04551\n",
      "EarlyStopping counter: 5 out of 10\n",
      "Epoch 37 train_loss: 0.04402   val_loss: 0.04553\n",
      "EarlyStopping counter: 6 out of 10\n",
      "Epoch 38 train_loss: 0.04389   val_loss: 0.04543\n",
      "EarlyStopping counter: 7 out of 10\n",
      "Epoch 39 train_loss: 0.04390   val_loss: 0.04539\n",
      "EarlyStopping counter: 8 out of 10\n",
      "Epoch 40 train_loss: 0.04381   val_loss: 0.04535\n",
      "EarlyStopping counter: 9 out of 10\n",
      "Epoch 41 train_loss: 0.04421   val_loss: 0.04536\n",
      "EarlyStopping counter: 10 out of 10\n",
      "Early stopping\n"
     ]
    }
   ],
   "source": [
    "for epoch in range(num_epochs):\n",
    "    model.train()\n",
    "    \n",
    "    train_losses = []\n",
    "    for it_1, (img, mask) in enumerate(train_loader):\n",
    "        #print(train_img)\n",
    "        img = img.to(device).float()\n",
    "        mask = mask.to(device).float()\n",
    "        #print(train_label)\n",
    "        if mode == 'base':\n",
    "            y_pred = model(img)\n",
    "            loss = criterion(y_pred, mask)\n",
    "            train_losses.append(loss.item())\n",
    "            optimizer.zero_grad()\n",
    "            loss.backward()\n",
    "            optimizer.step()\n",
    "\n",
    "        elif mode == 'caranet':\n",
    "            train_lrmap_5,train_lrmap_3,train_lrmap_2,train_lrmap_1 = model(img)\n",
    "            train_loss5 = structure_loss(train_lrmap_5, mask)\n",
    "            train_loss3 = structure_loss(train_lrmap_3, mask)\n",
    "            train_loss2 = structure_loss(train_lrmap_2, mask)\n",
    "            train_loss1 = structure_loss(train_lrmap_1, mask)\n",
    "        \n",
    "            loss = train_loss5 + train_loss3 + train_loss2 + train_loss1\n",
    "        \n",
    "            train_losses.append(loss.item())\n",
    "            \n",
    "            optimizer.zero_grad()\n",
    "            loss.backward()\n",
    "            clip_gradient(optimizer, 0.5)\n",
    "            optimizer.step()\n",
    "    \n",
    "    train_loss = np.average(train_losses)\n",
    "\n",
    "    loss_dict['train'].append(train_loss)\n",
    "\n",
    "    model.eval()\n",
    "    with torch.no_grad():\n",
    "        valid_losses = []\n",
    "        for it_2, (img, mask) in enumerate(val_loader):\n",
    "            img = img.float().to(device)\n",
    "            mask = mask.to(device).float()\n",
    "            #print(train_label)\n",
    "            if mode == 'base':\n",
    "                y_pred = model(img)\n",
    "                loss = criterion(y_pred, mask)\n",
    "                valid_losses.append(loss.item())\n",
    "\n",
    "            elif mode == 'caranet':\n",
    "                lrmap_5, lrmap_3, lrmap_2, lrmap_1 = model(img)\n",
    "                loss5 = structure_loss(lrmap_5, mask)\n",
    "                loss3 = structure_loss(lrmap_3, mask)\n",
    "                loss2 = structure_loss(lrmap_2, mask)\n",
    "                loss1 = structure_loss(lrmap_1, mask)\n",
    "            \n",
    "                loss = loss5 + loss3 + loss2 + loss1\n",
    "                valid_losses.append(loss.item())\n",
    "        \n",
    "        valid_loss = np.average(valid_losses)\n",
    "        scheduler.step(valid_loss)\n",
    "        \n",
    "        early_stopping(valid_loss, model)\n",
    "        if early_stopping.early_stop:\n",
    "            print(\"Early stopping\")\n",
    "            break\n",
    "#            scheduler.step(float(val_loss))\n",
    "        loss_dict['val'].append(valid_loss)\n",
    "            \n",
    "    print(f'Epoch {epoch} train_loss: {train_loss:0.5f}   val_loss: {valid_loss:0.5f}')"
   ]
  },
  {
   "cell_type": "markdown",
   "metadata": {},
   "source": [
    "\n",
    "# Finetuning"
   ]
  },
  {
   "cell_type": "code",
   "execution_count": 30,
   "metadata": {},
   "outputs": [],
   "source": [
    "learning_rate = 1e-5\n",
    "optimizer = Adam(model.parameters(), lr=learning_rate, weight_decay=weight_decay)"
   ]
  },
  {
   "cell_type": "code",
   "execution_count": 23,
   "metadata": {},
   "outputs": [],
   "source": [
    "train_loader = train_2_loader\n",
    "val_loader = test_2_loader"
   ]
  },
  {
   "cell_type": "code",
   "execution_count": 14,
   "metadata": {},
   "outputs": [],
   "source": [
    "filename = 'models/unet_12-02_00-41.pt'\n",
    "early_stopping = EarlyStopping(patience = 20, verbose = False, path = filename)"
   ]
  },
  {
   "cell_type": "code",
   "execution_count": 28,
   "metadata": {},
   "outputs": [
    {
     "data": {
      "text/plain": [
       "<All keys matched successfully>"
      ]
     },
     "execution_count": 28,
     "metadata": {},
     "output_type": "execute_result"
    }
   ],
   "source": [
    "model.load_state_dict(torch.load(f'{filename}'))"
   ]
  },
  {
   "cell_type": "code",
   "execution_count": null,
   "metadata": {},
   "outputs": [
    {
     "name": "stdout",
     "output_type": "stream",
     "text": [
      "Epoch 0 train_loss: 0.06642   val_loss: 0.05514\n",
      "Epoch 1 train_loss: 0.06631   val_loss: 0.05412\n",
      "Epoch 2 train_loss: 0.06525   val_loss: 0.05400\n",
      "EarlyStopping counter: 1 out of 20\n",
      "Epoch 3 train_loss: 0.06496   val_loss: 0.05402\n",
      "Epoch 4 train_loss: 0.06476   val_loss: 0.05365\n",
      "Epoch 5 train_loss: 0.06543   val_loss: 0.05338\n",
      "EarlyStopping counter: 1 out of 20\n",
      "Epoch 6 train_loss: 0.06453   val_loss: 0.05350\n",
      "Epoch 7 train_loss: 0.06429   val_loss: 0.05331\n",
      "EarlyStopping counter: 1 out of 20\n",
      "Epoch 8 train_loss: 0.06460   val_loss: 0.05350\n",
      "EarlyStopping counter: 2 out of 20\n",
      "Epoch 9 train_loss: 0.06437   val_loss: 0.05336\n",
      "Epoch 10 train_loss: 0.06396   val_loss: 0.05326\n",
      "Epoch 11 train_loss: 0.06372   val_loss: 0.05311\n",
      "Epoch 12 train_loss: 0.06307   val_loss: 0.05307\n",
      "Epoch 13 train_loss: 0.06331   val_loss: 0.05298\n",
      "Epoch 14 train_loss: 0.06292   val_loss: 0.05278\n",
      "Epoch 15 train_loss: 0.06352   val_loss: 0.05266\n",
      "Epoch 16 train_loss: 0.06328   val_loss: 0.05258\n",
      "EarlyStopping counter: 1 out of 20\n",
      "Epoch 17 train_loss: 0.06286   val_loss: 0.05259\n",
      "Epoch 18 train_loss: 0.06287   val_loss: 0.05244\n",
      "Epoch 19 train_loss: 0.06243   val_loss: 0.05235\n",
      "EarlyStopping counter: 1 out of 20\n",
      "Epoch 20 train_loss: 0.06240   val_loss: 0.05294\n"
     ]
    }
   ],
   "source": [
    "for epoch in range(num_epochs):\n",
    "    model.train()\n",
    "    \n",
    "    train_losses = []\n",
    "    for it_1, (img, mask) in enumerate(train_loader):\n",
    "        #print(train_img)\n",
    "        img = img.to(device)\n",
    "        mask = mask.to(device).float()\n",
    "        #print(train_label)\n",
    "        if mode == 'base':\n",
    "            y_pred = model(img)\n",
    "            loss = criterion(y_pred, mask)\n",
    "            train_losses.append(loss.item())\n",
    "            optimizer.zero_grad()\n",
    "            loss.backward()\n",
    "            optimizer.step()\n",
    "\n",
    "        elif mode == 'caranet':\n",
    "            train_lrmap_5,train_lrmap_3,train_lrmap_2,train_lrmap_1 = model(img)\n",
    "            train_loss5 = structure_loss(train_lrmap_5, mask)\n",
    "            train_loss3 = structure_loss(train_lrmap_3, mask)\n",
    "            train_loss2 = structure_loss(train_lrmap_2, mask)\n",
    "            train_loss1 = structure_loss(train_lrmap_1, mask)\n",
    "        \n",
    "            loss = train_loss5 + train_loss3 + train_loss2 + train_loss1\n",
    "        \n",
    "            train_losses.append(loss.item())\n",
    "            \n",
    "            optimizer.zero_grad()\n",
    "            loss.backward()\n",
    "            clip_gradient(optimizer, 0.5)\n",
    "            optimizer.step()\n",
    "    \n",
    "    train_loss = np.average(train_losses)\n",
    "\n",
    "    loss_dict['train'].append(train_loss)\n",
    "\n",
    "    model.eval()\n",
    "    with torch.no_grad():\n",
    "        valid_losses = []\n",
    "        for it_2, (img, mask) in enumerate(val_loader):\n",
    "            img = img.to(device)\n",
    "            mask = mask.to(device).float()\n",
    "            #print(train_label)\n",
    "            if mode == 'base':\n",
    "                y_pred = model(img)\n",
    "                loss = criterion(y_pred, mask)\n",
    "                valid_losses.append(loss.item())\n",
    "\n",
    "            elif mode == 'caranet':\n",
    "                lrmap_5, lrmap_3, lrmap_2, lrmap_1 = model(img)\n",
    "                loss5 = structure_loss(lrmap_5, mask)\n",
    "                loss3 = structure_loss(lrmap_3, mask)\n",
    "                loss2 = structure_loss(lrmap_2, mask)\n",
    "                loss1 = structure_loss(lrmap_1, mask)\n",
    "            \n",
    "                loss = loss5 + loss3 + loss2 + loss1\n",
    "                valid_losses.append(loss.item())\n",
    "        \n",
    "        valid_loss = np.average(valid_losses)\n",
    "        scheduler.step(valid_loss)\n",
    "        \n",
    "        early_stopping(valid_loss, model)\n",
    "        if early_stopping.early_stop:\n",
    "            print(\"Early stopping\")\n",
    "            break\n",
    "#            scheduler.step(float(val_loss))\n",
    "        loss_dict['val'].append(valid_loss)\n",
    "            \n",
    "    print(f'Epoch {epoch} train_loss: {train_loss:0.5f}   val_loss: {valid_loss:0.5f}')"
   ]
  },
  {
   "cell_type": "markdown",
   "metadata": {},
   "source": [
    "# Evaluate"
   ]
  },
  {
   "cell_type": "code",
   "execution_count": 15,
   "metadata": {},
   "outputs": [
    {
     "data": {
      "text/plain": [
       "<All keys matched successfully>"
      ]
     },
     "execution_count": 15,
     "metadata": {},
     "output_type": "execute_result"
    }
   ],
   "source": [
    "# load best model\n",
    "model.load_state_dict(torch.load(f'{filename}'))"
   ]
  },
  {
   "cell_type": "code",
   "execution_count": 16,
   "metadata": {},
   "outputs": [],
   "source": [
    "from utils import *"
   ]
  },
  {
   "cell_type": "code",
   "execution_count": 14,
   "metadata": {},
   "outputs": [],
   "source": [
    "x,y = next(iter(test_2_4_loader))"
   ]
  },
  {
   "cell_type": "code",
   "execution_count": 15,
   "metadata": {},
   "outputs": [
    {
     "data": {
      "text/plain": [
       "(torch.Size([16, 3, 400, 400]), torch.Size([16, 1, 400, 400]))"
      ]
     },
     "execution_count": 15,
     "metadata": {},
     "output_type": "execute_result"
    }
   ],
   "source": [
    "x.shape, y.shape"
   ]
  },
  {
   "cell_type": "code",
   "execution_count": 18,
   "metadata": {},
   "outputs": [
    {
     "name": "stdout",
     "output_type": "stream",
     "text": [
      "Dice Similarity:    0.9536 \n",
      "Jaccard Similarity: 0.9132\n"
     ]
    },
    {
     "data": {
      "text/plain": [
       "(0.9536186449431789, 0.9131997225313269)"
      ]
     },
     "execution_count": 18,
     "metadata": {},
     "output_type": "execute_result"
    }
   ],
   "source": [
    "evaluate(model, test_2_4_loader, mode)"
   ]
  },
  {
   "cell_type": "code",
   "execution_count": 19,
   "metadata": {},
   "outputs": [
    {
     "name": "stdout",
     "output_type": "stream",
     "text": [
      "Dice Similarity:    0.9462 \n",
      "Jaccard Similarity: 0.9008\n"
     ]
    },
    {
     "data": {
      "text/plain": [
       "(0.9461996130151895, 0.9007514524226488)"
      ]
     },
     "execution_count": 19,
     "metadata": {},
     "output_type": "execute_result"
    }
   ],
   "source": [
    "evaluate(model, test_2_loader, mode)"
   ]
  },
  {
   "cell_type": "code",
   "execution_count": 20,
   "metadata": {},
   "outputs": [
    {
     "name": "stdout",
     "output_type": "stream",
     "text": [
      "Dice Similarity:    0.9610 \n",
      "Jaccard Similarity: 0.9256\n"
     ]
    },
    {
     "data": {
      "text/plain": [
       "(0.9610376768711683, 0.9256479926400051)"
      ]
     },
     "execution_count": 20,
     "metadata": {},
     "output_type": "execute_result"
    }
   ],
   "source": [
    "evaluate(model, test_4_loader, mode)"
   ]
  },
  {
   "cell_type": "code",
   "execution_count": null,
   "metadata": {},
   "outputs": [],
   "source": []
  }
 ],
 "metadata": {
  "interpreter": {
   "hash": "67279a16936c44c66ab678de41f1260360b345454ec17353bfa5d06d9ac761b8"
  },
  "kernelspec": {
   "display_name": "Python 3 (ipykernel)",
   "language": "python",
   "name": "python3"
  },
  "language_info": {
   "codemirror_mode": {
    "name": "ipython",
    "version": 3
   },
   "file_extension": ".py",
   "mimetype": "text/x-python",
   "name": "python",
   "nbconvert_exporter": "python",
   "pygments_lexer": "ipython3",
   "version": "3.8.5"
  }
 },
 "nbformat": 4,
 "nbformat_minor": 2
}
