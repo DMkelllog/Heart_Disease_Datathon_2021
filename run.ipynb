{
 "cells": [
  {
   "cell_type": "markdown",
   "metadata": {},
   "source": [
    "# Import Library"
   ]
  },
  {
   "cell_type": "code",
   "execution_count": 1,
   "metadata": {},
   "outputs": [],
   "source": [
    "%load_ext autoreload\n",
    "%autoreload 2\n",
    "\n",
    "\n",
    "import numpy as np\n",
    "import matplotlib.pyplot as plt\n",
    "import datetime\n",
    "\n",
    "import torch\n",
    "\n",
    "from torch.optim import Adam\n",
    "from torch.optim.lr_scheduler import ReduceLROnPlateau\n",
    "from torch import optim\n",
    "import numpy as np\n",
    "import pickle\n",
    "from tqdm import tqdm\n",
    "\n",
    "import albumentations as A\n",
    "from albumentations.pytorch import ToTensorV2\n",
    "\n",
    "from utils import *\n",
    "\n",
    "from models import caranet\n",
    "from unet import pretrained_unet\n",
    "\n",
    "from metrics import DiceLoss\n",
    "\n"
   ]
  },
  {
   "cell_type": "code",
   "execution_count": 20,
   "metadata": {},
   "outputs": [],
   "source": [
    "##### Hyperparameter Settings ####\n",
    "device = 'cuda' if torch.cuda.is_available() else 'cpu'\n",
    "leraning_rate = 0.001\n",
    "weight_decay = 1e-10\n",
    "batch_size = 16\n",
    "num_epochs = 1000\n",
    "early_stopping_patience = 10\n",
    "random_seed = 42\n",
    "date_time = datetime.datetime.now().strftime(\"%m-%d_%H-%M\")\n",
    "\n",
    "model_type = 'caranet'\n",
    "#model_type = 'unet'\n",
    "\n",
    "filename = f'models/{model_type}_{date_time}.pt'\n",
    "\n",
    "if model_type == 'unet':\n",
    "    mode = 'base'\n",
    "elif model_type == 'caranet':\n",
    "    mode = 'caranet'\n",
    "#################################"
   ]
  },
  {
   "cell_type": "markdown",
   "metadata": {},
   "source": [
    "# Dataloader"
   ]
  },
  {
   "cell_type": "code",
   "execution_count": 21,
   "metadata": {},
   "outputs": [],
   "source": [
    "transform = A.Compose([\n",
    "    A.HorizontalFlip(),\n",
    "    ToTensorV2(transpose_mask=True)\n",
    "])\n",
    "\n"
   ]
  },
  {
   "cell_type": "code",
   "execution_count": 22,
   "metadata": {},
   "outputs": [
    {
     "name": "stdout",
     "output_type": "stream",
     "text": [
      "train image shape: (1600, 400, 400, 3) \n",
      "train mask shape: (1600, 400, 400, 1)\n",
      "test image shape: (200, 400, 400, 3) \n",
      "test mask shape: (200, 400, 400, 1)\n"
     ]
    }
   ],
   "source": [
    "_2_4_loader, _2_loader, _4_loader = create_loader(transform, random_seed, batch_size, mode)\n",
    "\n",
    "train_2_4_loader, val_2_4_loader, test_2_4_loader = _2_4_loader\n",
    "train_2_loader, val_2_loader, test_2_loader = _2_loader\n",
    "train_4_loader, val_4_loader, test_4_loader = _4_loader\n"
   ]
  },
  {
   "cell_type": "markdown",
   "metadata": {},
   "source": [
    "# Training"
   ]
  },
  {
   "cell_type": "code",
   "execution_count": 23,
   "metadata": {},
   "outputs": [],
   "source": [
    "# model = caranet().to(device)\n",
    "model = pretrained_unet(True).to(device)\n",
    "optimizer = Adam(model.parameters(), lr=leraning_rate, weight_decay=weight_decay)\n",
    "scheduler = ReduceLROnPlateau(optimizer, mode='min', factor=0.1, patience=20, min_lr=leraning_rate/1000, verbose=True)\n",
    "criterion = DiceLoss()\n",
    "\n",
    "early_stopping = EarlyStopping(patience = 20, verbose = True, path = filename)\n",
    "loss_dict = {'train': [], 'val': []}"
   ]
  },
  {
   "cell_type": "code",
   "execution_count": 24,
   "metadata": {},
   "outputs": [],
   "source": [
    "train_loader = train_2_4_loader\n",
    "val_loader = val_2_4_loader"
   ]
  },
  {
   "cell_type": "code",
   "execution_count": 25,
   "metadata": {},
   "outputs": [
    {
     "name": "stdout",
     "output_type": "stream",
     "text": [
      "Validation loss decreased (inf --> 0.169942).  Saving model ...\n",
      "Epoch 0 train_loss: 0.23479   val_loss: 0.16994\n",
      "EarlyStopping counter: 1 out of 20\n",
      "Epoch 1 train_loss: 0.11068   val_loss: 0.27615\n",
      "Validation loss decreased (0.169942 --> 0.122242).  Saving model ...\n",
      "Epoch 2 train_loss: 0.10089   val_loss: 0.12224\n",
      "Validation loss decreased (0.122242 --> 0.106740).  Saving model ...\n",
      "Epoch 3 train_loss: 0.08454   val_loss: 0.10674\n",
      "EarlyStopping counter: 1 out of 20\n",
      "Epoch 4 train_loss: 0.08212   val_loss: 0.10675\n",
      "EarlyStopping counter: 2 out of 20\n",
      "Epoch 5 train_loss: 0.07812   val_loss: 0.12205\n",
      "Validation loss decreased (0.106740 --> 0.104486).  Saving model ...\n",
      "Epoch 6 train_loss: 0.07440   val_loss: 0.10449\n",
      "Validation loss decreased (0.104486 --> 0.092919).  Saving model ...\n",
      "Epoch 7 train_loss: 0.07052   val_loss: 0.09292\n",
      "Validation loss decreased (0.092919 --> 0.079587).  Saving model ...\n",
      "Epoch 8 train_loss: 0.06921   val_loss: 0.07959\n",
      "EarlyStopping counter: 1 out of 20\n",
      "Epoch 9 train_loss: 0.06889   val_loss: 0.10039\n",
      "EarlyStopping counter: 2 out of 20\n",
      "Epoch 10 train_loss: 0.06808   val_loss: 0.09001\n",
      "EarlyStopping counter: 3 out of 20\n",
      "Epoch 11 train_loss: 0.06808   val_loss: 0.08379\n",
      "Validation loss decreased (0.079587 --> 0.078241).  Saving model ...\n",
      "Epoch 12 train_loss: 0.06794   val_loss: 0.07824\n",
      "EarlyStopping counter: 1 out of 20\n",
      "Epoch 13 train_loss: 0.06201   val_loss: 0.07899\n",
      "Validation loss decreased (0.078241 --> 0.071324).  Saving model ...\n",
      "Epoch 14 train_loss: 0.06058   val_loss: 0.07132\n",
      "EarlyStopping counter: 1 out of 20\n",
      "Epoch 15 train_loss: 0.06385   val_loss: 0.08900\n",
      "Validation loss decreased (0.071324 --> 0.068761).  Saving model ...\n",
      "Epoch 16 train_loss: 0.05917   val_loss: 0.06876\n",
      "EarlyStopping counter: 1 out of 20\n",
      "Epoch 17 train_loss: 0.05662   val_loss: 0.07174\n",
      "EarlyStopping counter: 2 out of 20\n",
      "Epoch 18 train_loss: 0.05711   val_loss: 0.07065\n",
      "EarlyStopping counter: 3 out of 20\n",
      "Epoch 19 train_loss: 0.05783   val_loss: 0.07655\n",
      "EarlyStopping counter: 4 out of 20\n",
      "Epoch 20 train_loss: 0.05624   val_loss: 0.07279\n",
      "EarlyStopping counter: 5 out of 20\n",
      "Epoch 21 train_loss: 0.05533   val_loss: 0.07133\n",
      "EarlyStopping counter: 6 out of 20\n",
      "Epoch 22 train_loss: 0.05333   val_loss: 0.07568\n",
      "Validation loss decreased (0.068761 --> 0.067874).  Saving model ...\n",
      "Epoch 23 train_loss: 0.05273   val_loss: 0.06787\n",
      "Validation loss decreased (0.067874 --> 0.066631).  Saving model ...\n",
      "Epoch 24 train_loss: 0.05119   val_loss: 0.06663\n",
      "Validation loss decreased (0.066631 --> 0.064851).  Saving model ...\n",
      "Epoch 25 train_loss: 0.05013   val_loss: 0.06485\n",
      "EarlyStopping counter: 1 out of 20\n",
      "Epoch 26 train_loss: 0.04917   val_loss: 0.06885\n",
      "EarlyStopping counter: 2 out of 20\n",
      "Epoch 27 train_loss: 0.05486   val_loss: 0.07119\n",
      "Validation loss decreased (0.064851 --> 0.064459).  Saving model ...\n",
      "Epoch 28 train_loss: 0.05117   val_loss: 0.06446\n",
      "EarlyStopping counter: 1 out of 20\n",
      "Epoch 29 train_loss: 0.04952   val_loss: 0.07009\n",
      "EarlyStopping counter: 2 out of 20\n",
      "Epoch 30 train_loss: 0.04696   val_loss: 0.06555\n",
      "EarlyStopping counter: 3 out of 20\n",
      "Epoch 31 train_loss: 0.04708   val_loss: 0.06578\n",
      "Validation loss decreased (0.064459 --> 0.064195).  Saving model ...\n",
      "Epoch 32 train_loss: 0.04526   val_loss: 0.06419\n",
      "Validation loss decreased (0.064195 --> 0.063357).  Saving model ...\n",
      "Epoch 33 train_loss: 0.04505   val_loss: 0.06336\n",
      "EarlyStopping counter: 1 out of 20\n",
      "Epoch 34 train_loss: 0.04411   val_loss: 0.06845\n"
     ]
    }
   ],
   "source": [
    "for epoch in range(num_epochs):\n",
    "    model.train()\n",
    "    \n",
    "    train_losses = []\n",
    "    for it_1, (img, mask) in enumerate(train_loader):\n",
    "        #print(train_img)\n",
    "        img = img.to(device)\n",
    "        mask = mask.to(device).float()\n",
    "        #print(train_label)\n",
    "        if mode == 'base':\n",
    "            y_pred = model(img)\n",
    "            loss = criterion(y_pred, mask)\n",
    "            train_losses.append(loss.item())\n",
    "            optimizer.zero_grad()\n",
    "            loss.backward()\n",
    "            optimizer.step()\n",
    "\n",
    "        elif mode == 'caranet':\n",
    "            train_lrmap_5,train_lrmap_3,train_lrmap_2,train_lrmap_1 = model(img)\n",
    "            train_loss5 = structure_loss(train_lrmap_5, mask)\n",
    "            train_loss3 = structure_loss(train_lrmap_3, mask)\n",
    "            train_loss2 = structure_loss(train_lrmap_2, mask)\n",
    "            train_loss1 = structure_loss(train_lrmap_1, mask)\n",
    "        \n",
    "            loss = train_loss5 + train_loss3 + train_loss2 + train_loss1\n",
    "        \n",
    "            train_losses.append(loss.item())\n",
    "            \n",
    "            optimizer.zero_grad()\n",
    "            loss.backward()\n",
    "            clip_gradient(optimizer, 0.5)\n",
    "            optimizer.step()\n",
    "    \n",
    "    train_loss = np.average(train_losses)\n",
    "\n",
    "    loss_dict['train'].append(train_loss)\n",
    "\n",
    "    model.eval()\n",
    "    with torch.no_grad():\n",
    "        valid_losses = []\n",
    "        for it_2, (img, mask) in enumerate(val_loader):\n",
    "            img = img.to(device)\n",
    "            mask = mask.to(device).float()\n",
    "            #print(train_label)\n",
    "            if mode == 'base':\n",
    "                y_pred = model(img)\n",
    "                loss = criterion(y_pred, mask)\n",
    "                valid_losses.append(loss.item())\n",
    "\n",
    "            elif mode == 'caranet':\n",
    "                lrmap_5, lrmap_3, lrmap_2, lrmap_1 = model(img)\n",
    "                loss5 = structure_loss(lrmap_5, mask)\n",
    "                loss3 = structure_loss(lrmap_3, mask)\n",
    "                loss2 = structure_loss(lrmap_2, mask)\n",
    "                loss1 = structure_loss(lrmap_1, mask)\n",
    "            \n",
    "                loss = loss5 + loss3 + loss2 + loss1\n",
    "                valid_losses.append(loss.item())\n",
    "        \n",
    "        valid_loss = np.average(valid_losses)\n",
    "        scheduler.step(valid_loss)\n",
    "        \n",
    "        early_stopping(valid_loss, model)\n",
    "        if early_stopping.early_stop:\n",
    "            print(\"Early stopping\")\n",
    "            break\n",
    "#            scheduler.step(float(val_loss))\n",
    "        loss_dict['val'].append(valid_loss)\n",
    "            \n",
    "    print(f'Epoch {epoch} train_loss: {train_loss:0.5f}   val_loss: {valid_loss:0.5f}')"
   ]
  },
  {
   "cell_type": "markdown",
   "metadata": {},
   "source": [
    "# Finetuning"
   ]
  },
  {
   "cell_type": "code",
   "execution_count": null,
   "metadata": {},
   "outputs": [],
   "source": []
  },
  {
   "cell_type": "markdown",
   "metadata": {},
   "source": [
    "# Evaluate"
   ]
  },
  {
   "cell_type": "code",
   "execution_count": null,
   "metadata": {},
   "outputs": [
    {
     "data": {
      "text/plain": [
       "<All keys matched successfully>"
      ]
     },
     "execution_count": 8,
     "metadata": {},
     "output_type": "execute_result"
    }
   ],
   "source": [
    "# load best model\n",
    "model.load_state_dict(torch.load(f'{filename}'))"
   ]
  },
  {
   "cell_type": "code",
   "execution_count": null,
   "metadata": {},
   "outputs": [],
   "source": [
    "from utils import *"
   ]
  },
  {
   "cell_type": "code",
   "execution_count": null,
   "metadata": {},
   "outputs": [],
   "source": [
    "x,y = next(iter(test_2_4_loader))"
   ]
  },
  {
   "cell_type": "code",
   "execution_count": null,
   "metadata": {},
   "outputs": [
    {
     "data": {
      "text/plain": [
       "(torch.Size([16, 3, 400, 400]), torch.Size([16, 1, 400, 400]))"
      ]
     },
     "execution_count": 13,
     "metadata": {},
     "output_type": "execute_result"
    }
   ],
   "source": [
    "x.shape, y.shape"
   ]
  },
  {
   "cell_type": "code",
   "execution_count": null,
   "metadata": {},
   "outputs": [
    {
     "name": "stdout",
     "output_type": "stream",
     "text": [
      "(200, 1, 400, 400) (200, 1, 400, 400)\n",
      "Dice Similarity:    0.9310 \n",
      "Jaccard Similarity: 0.8746\n"
     ]
    },
    {
     "data": {
      "text/plain": [
       "(0.93097356219048, 0.8746172610912453)"
      ]
     },
     "execution_count": 17,
     "metadata": {},
     "output_type": "execute_result"
    }
   ],
   "source": [
    "evaluate(model, test_2_4_loader, mode)"
   ]
  },
  {
   "cell_type": "code",
   "execution_count": null,
   "metadata": {},
   "outputs": [
    {
     "name": "stdout",
     "output_type": "stream",
     "text": [
      "(100, 1, 400, 400) (100, 1, 400, 400)\n",
      "Dice Similarity:    0.9288 \n",
      "Jaccard Similarity: 0.8709\n"
     ]
    },
    {
     "data": {
      "text/plain": [
       "(0.9287668186120144, 0.8709392917465969)"
      ]
     },
     "execution_count": 18,
     "metadata": {},
     "output_type": "execute_result"
    }
   ],
   "source": [
    "evaluate(model, test_2_loader, mode)"
   ]
  },
  {
   "cell_type": "code",
   "execution_count": 19,
   "metadata": {},
   "outputs": [
    {
     "name": "stdout",
     "output_type": "stream",
     "text": [
      "(100, 1, 400, 400) (100, 1, 400, 400)\n",
      "Dice Similarity:    0.9332 \n",
      "Jaccard Similarity: 0.8783\n"
     ]
    },
    {
     "data": {
      "text/plain": [
       "(0.9331803057689456, 0.8782952304358933)"
      ]
     },
     "execution_count": 19,
     "metadata": {},
     "output_type": "execute_result"
    }
   ],
   "source": [
    "evaluate(model, test_4_loader, mode)"
   ]
  },
  {
   "cell_type": "code",
   "execution_count": null,
   "metadata": {},
   "outputs": [],
   "source": []
  }
 ],
 "metadata": {
  "interpreter": {
   "hash": "67279a16936c44c66ab678de41f1260360b345454ec17353bfa5d06d9ac761b8"
  },
  "kernelspec": {
   "display_name": "Python 3.7.11 64-bit ('torch': conda)",
   "language": "python",
   "name": "python3"
  },
  "language_info": {
   "codemirror_mode": {
    "name": "ipython",
    "version": 3
   },
   "file_extension": ".py",
   "mimetype": "text/x-python",
   "name": "python",
   "nbconvert_exporter": "python",
   "pygments_lexer": "ipython3",
   "version": "3.7.11"
  },
  "orig_nbformat": 4
 },
 "nbformat": 4,
 "nbformat_minor": 2
}
